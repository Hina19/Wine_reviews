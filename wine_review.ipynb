{
 "cells": [
  {
   "cell_type": "code",
   "execution_count": 1,
   "metadata": {},
   "outputs": [
    {
     "data": {
      "text/html": [
       "<script>requirejs.config({paths: { 'plotly': ['https://cdn.plot.ly/plotly-latest.min']},});if(!window.Plotly) {{require(['plotly'],function(plotly) {window.Plotly=plotly;});}}</script>"
      ],
      "text/vnd.plotly.v1+html": [
       "<script>requirejs.config({paths: { 'plotly': ['https://cdn.plot.ly/plotly-latest.min']},});if(!window.Plotly) {{require(['plotly'],function(plotly) {window.Plotly=plotly;});}}</script>"
      ]
     },
     "metadata": {},
     "output_type": "display_data"
    }
   ],
   "source": [
    "import requests\n",
    "import matplotlib.pyplot as plt\n",
    "import numpy as np\n",
    "import pandas as pd\n",
    "import warnings\n",
    "import nltk\n",
    "import math\n",
    "import time\n",
    "import re\n",
    "import os\n",
    "import seaborn as sns\n",
    "from matplotlib import gridspec\n",
    "from scipy.sparse import hstack\n",
    "import plotly\n",
    "import plotly.figure_factory as ff\n",
    "import pandas as pd\n",
    "from nltk.corpus import stopwords\n",
    "from nltk.tokenize import word_tokenize\n",
    "from sklearn.metrics.classification import accuracy_score, log_loss\n",
    "from sklearn.linear_model import SGDClassifier\n",
    "from sklearn.calibration import CalibratedClassifierCV\n",
    "from collections import Counter\n",
    "from sklearn.feature_extraction.text import CountVectorizer\n",
    "from sklearn.feature_extraction.text import TfidfVectorizer\n",
    "from sklearn.model_selection import train_test_split\n",
    "import nltk\n",
    "import time\n",
    "from plotly.graph_objs import Scatter, Layout\n",
    "plotly.offline.init_notebook_mode(connected=True)\n",
    "warnings.filterwarnings(\"ignore\")"
   ]
  },
  {
   "cell_type": "code",
   "execution_count": 2,
   "metadata": {
    "scrolled": false
   },
   "outputs": [
    {
     "data": {
      "text/html": [
       "<div>\n",
       "<style>\n",
       "    .dataframe thead tr:only-child th {\n",
       "        text-align: right;\n",
       "    }\n",
       "\n",
       "    .dataframe thead th {\n",
       "        text-align: left;\n",
       "    }\n",
       "\n",
       "    .dataframe tbody tr th {\n",
       "        vertical-align: top;\n",
       "    }\n",
       "</style>\n",
       "<table border=\"1\" class=\"dataframe\">\n",
       "  <thead>\n",
       "    <tr style=\"text-align: right;\">\n",
       "      <th></th>\n",
       "      <th>Unnamed: 0</th>\n",
       "      <th>country</th>\n",
       "      <th>description</th>\n",
       "      <th>designation</th>\n",
       "      <th>points</th>\n",
       "      <th>price</th>\n",
       "      <th>province</th>\n",
       "      <th>region_1</th>\n",
       "      <th>region_2</th>\n",
       "      <th>taster_name</th>\n",
       "      <th>taster_twitter_handle</th>\n",
       "      <th>title</th>\n",
       "      <th>variety</th>\n",
       "      <th>winery</th>\n",
       "    </tr>\n",
       "  </thead>\n",
       "  <tbody>\n",
       "    <tr>\n",
       "      <th>0</th>\n",
       "      <td>0</td>\n",
       "      <td>Italy</td>\n",
       "      <td>Aromas include tropical fruit, broom, brimston...</td>\n",
       "      <td>Vulkà Bianco</td>\n",
       "      <td>87</td>\n",
       "      <td>NaN</td>\n",
       "      <td>Sicily &amp; Sardinia</td>\n",
       "      <td>Etna</td>\n",
       "      <td>NaN</td>\n",
       "      <td>Kerin O’Keefe</td>\n",
       "      <td>@kerinokeefe</td>\n",
       "      <td>Nicosia 2013 Vulkà Bianco  (Etna)</td>\n",
       "      <td>White Blend</td>\n",
       "      <td>Nicosia</td>\n",
       "    </tr>\n",
       "    <tr>\n",
       "      <th>1</th>\n",
       "      <td>1</td>\n",
       "      <td>Portugal</td>\n",
       "      <td>This is ripe and fruity, a wine that is smooth...</td>\n",
       "      <td>Avidagos</td>\n",
       "      <td>87</td>\n",
       "      <td>15.0</td>\n",
       "      <td>Douro</td>\n",
       "      <td>NaN</td>\n",
       "      <td>NaN</td>\n",
       "      <td>Roger Voss</td>\n",
       "      <td>@vossroger</td>\n",
       "      <td>Quinta dos Avidagos 2011 Avidagos Red (Douro)</td>\n",
       "      <td>Portuguese Red</td>\n",
       "      <td>Quinta dos Avidagos</td>\n",
       "    </tr>\n",
       "    <tr>\n",
       "      <th>2</th>\n",
       "      <td>2</td>\n",
       "      <td>US</td>\n",
       "      <td>Tart and snappy, the flavors of lime flesh and...</td>\n",
       "      <td>NaN</td>\n",
       "      <td>87</td>\n",
       "      <td>14.0</td>\n",
       "      <td>Oregon</td>\n",
       "      <td>Willamette Valley</td>\n",
       "      <td>Willamette Valley</td>\n",
       "      <td>Paul Gregutt</td>\n",
       "      <td>@paulgwine</td>\n",
       "      <td>Rainstorm 2013 Pinot Gris (Willamette Valley)</td>\n",
       "      <td>Pinot Gris</td>\n",
       "      <td>Rainstorm</td>\n",
       "    </tr>\n",
       "    <tr>\n",
       "      <th>3</th>\n",
       "      <td>3</td>\n",
       "      <td>US</td>\n",
       "      <td>Pineapple rind, lemon pith and orange blossom ...</td>\n",
       "      <td>Reserve Late Harvest</td>\n",
       "      <td>87</td>\n",
       "      <td>13.0</td>\n",
       "      <td>Michigan</td>\n",
       "      <td>Lake Michigan Shore</td>\n",
       "      <td>NaN</td>\n",
       "      <td>Alexander Peartree</td>\n",
       "      <td>NaN</td>\n",
       "      <td>St. Julian 2013 Reserve Late Harvest Riesling ...</td>\n",
       "      <td>Riesling</td>\n",
       "      <td>St. Julian</td>\n",
       "    </tr>\n",
       "    <tr>\n",
       "      <th>4</th>\n",
       "      <td>4</td>\n",
       "      <td>US</td>\n",
       "      <td>Much like the regular bottling from 2012, this...</td>\n",
       "      <td>Vintner's Reserve Wild Child Block</td>\n",
       "      <td>87</td>\n",
       "      <td>65.0</td>\n",
       "      <td>Oregon</td>\n",
       "      <td>Willamette Valley</td>\n",
       "      <td>Willamette Valley</td>\n",
       "      <td>Paul Gregutt</td>\n",
       "      <td>@paulgwine</td>\n",
       "      <td>Sweet Cheeks 2012 Vintner's Reserve Wild Child...</td>\n",
       "      <td>Pinot Noir</td>\n",
       "      <td>Sweet Cheeks</td>\n",
       "    </tr>\n",
       "  </tbody>\n",
       "</table>\n",
       "</div>"
      ],
      "text/plain": [
       "   Unnamed: 0   country                                        description  \\\n",
       "0           0     Italy  Aromas include tropical fruit, broom, brimston...   \n",
       "1           1  Portugal  This is ripe and fruity, a wine that is smooth...   \n",
       "2           2        US  Tart and snappy, the flavors of lime flesh and...   \n",
       "3           3        US  Pineapple rind, lemon pith and orange blossom ...   \n",
       "4           4        US  Much like the regular bottling from 2012, this...   \n",
       "\n",
       "                          designation  points  price           province  \\\n",
       "0                        Vulkà Bianco      87    NaN  Sicily & Sardinia   \n",
       "1                            Avidagos      87   15.0              Douro   \n",
       "2                                 NaN      87   14.0             Oregon   \n",
       "3                Reserve Late Harvest      87   13.0           Michigan   \n",
       "4  Vintner's Reserve Wild Child Block      87   65.0             Oregon   \n",
       "\n",
       "              region_1           region_2         taster_name  \\\n",
       "0                 Etna                NaN       Kerin O’Keefe   \n",
       "1                  NaN                NaN          Roger Voss   \n",
       "2    Willamette Valley  Willamette Valley        Paul Gregutt   \n",
       "3  Lake Michigan Shore                NaN  Alexander Peartree   \n",
       "4    Willamette Valley  Willamette Valley        Paul Gregutt   \n",
       "\n",
       "  taster_twitter_handle                                              title  \\\n",
       "0          @kerinokeefe                  Nicosia 2013 Vulkà Bianco  (Etna)   \n",
       "1            @vossroger      Quinta dos Avidagos 2011 Avidagos Red (Douro)   \n",
       "2           @paulgwine       Rainstorm 2013 Pinot Gris (Willamette Valley)   \n",
       "3                   NaN  St. Julian 2013 Reserve Late Harvest Riesling ...   \n",
       "4           @paulgwine   Sweet Cheeks 2012 Vintner's Reserve Wild Child...   \n",
       "\n",
       "          variety               winery  \n",
       "0     White Blend              Nicosia  \n",
       "1  Portuguese Red  Quinta dos Avidagos  \n",
       "2      Pinot Gris            Rainstorm  \n",
       "3        Riesling           St. Julian  \n",
       "4      Pinot Noir         Sweet Cheeks  "
      ]
     },
     "execution_count": 2,
     "metadata": {},
     "output_type": "execute_result"
    }
   ],
   "source": [
    "data = pd.read_csv('winemagdata-130k')\n",
    "data.head()\n"
   ]
  },
  {
   "cell_type": "code",
   "execution_count": 3,
   "metadata": {},
   "outputs": [
    {
     "data": {
      "text/plain": [
       "(129971, 14)"
      ]
     },
     "execution_count": 3,
     "metadata": {},
     "output_type": "execute_result"
    }
   ],
   "source": [
    "data.shape"
   ]
  },
  {
   "cell_type": "code",
   "execution_count": 4,
   "metadata": {},
   "outputs": [
    {
     "data": {
      "text/plain": [
       "(129971, 7)"
      ]
     },
     "execution_count": 4,
     "metadata": {},
     "output_type": "execute_result"
    }
   ],
   "source": [
    "data = data.loc[:,['description','designation','country','title','variety','price','winery']]\n",
    "data.shape"
   ]
  },
  {
   "cell_type": "code",
   "execution_count": 5,
   "metadata": {},
   "outputs": [
    {
     "data": {
      "text/plain": [
       "count                                                129971\n",
       "unique                                               119955\n",
       "top       This zesty red has pretty aromas that suggest ...\n",
       "freq                                                      3\n",
       "Name: description, dtype: object"
      ]
     },
     "execution_count": 5,
     "metadata": {},
     "output_type": "execute_result"
    }
   ],
   "source": [
    "data['description'].describe()"
   ]
  },
  {
   "cell_type": "code",
   "execution_count": 6,
   "metadata": {},
   "outputs": [
    {
     "data": {
      "text/plain": [
       "count                                                129971\n",
       "unique                                               118840\n",
       "top       Gloria Ferrer NV Sonoma Brut Sparkling (Sonoma...\n",
       "freq                                                     11\n",
       "Name: title, dtype: object"
      ]
     },
     "execution_count": 6,
     "metadata": {},
     "output_type": "execute_result"
    }
   ],
   "source": [
    "data['title'].describe()"
   ]
  },
  {
   "cell_type": "code",
   "execution_count": 7,
   "metadata": {},
   "outputs": [
    {
     "data": {
      "text/plain": [
       "count         129970\n",
       "unique           707\n",
       "top       Pinot Noir\n",
       "freq           13272\n",
       "Name: variety, dtype: object"
      ]
     },
     "execution_count": 7,
     "metadata": {},
     "output_type": "execute_result"
    }
   ],
   "source": [
    "data['variety'].describe()"
   ]
  },
  {
   "cell_type": "code",
   "execution_count": 8,
   "metadata": {},
   "outputs": [
    {
     "data": {
      "text/plain": [
       "count     129908\n",
       "unique        43\n",
       "top           US\n",
       "freq       54504\n",
       "Name: country, dtype: object"
      ]
     },
     "execution_count": 8,
     "metadata": {},
     "output_type": "execute_result"
    }
   ],
   "source": [
    "data['country'].describe()"
   ]
  },
  {
   "cell_type": "code",
   "execution_count": 9,
   "metadata": {},
   "outputs": [
    {
     "data": {
      "text/plain": [
       "count       92506\n",
       "unique      37979\n",
       "top       Reserve\n",
       "freq         2009\n",
       "Name: designation, dtype: object"
      ]
     },
     "execution_count": 9,
     "metadata": {},
     "output_type": "execute_result"
    }
   ],
   "source": [
    "data['designation'].describe()"
   ]
  },
  {
   "cell_type": "code",
   "execution_count": 10,
   "metadata": {},
   "outputs": [
    {
     "data": {
      "text/plain": [
       "count                 129971\n",
       "unique                 16757\n",
       "top       Wines & Winemakers\n",
       "freq                     222\n",
       "Name: winery, dtype: object"
      ]
     },
     "execution_count": 10,
     "metadata": {},
     "output_type": "execute_result"
    }
   ],
   "source": [
    "data['winery'].describe()"
   ]
  },
  {
   "cell_type": "code",
   "execution_count": 11,
   "metadata": {},
   "outputs": [
    {
     "data": {
      "text/plain": [
       "count                                                129971\n",
       "unique                                               118840\n",
       "top       Gloria Ferrer NV Sonoma Brut Sparkling (Sonoma...\n",
       "freq                                                     11\n",
       "Name: title, dtype: object"
      ]
     },
     "execution_count": 11,
     "metadata": {},
     "output_type": "execute_result"
    }
   ],
   "source": [
    "data['title'].describe()"
   ]
  },
  {
   "cell_type": "code",
   "execution_count": 12,
   "metadata": {},
   "outputs": [
    {
     "name": "stdout",
     "output_type": "stream",
     "text": [
      "0.04847235152457087 % of data points where country is null\n",
      "28.825661109016625 % of data points where designation is null\n",
      "0.0007694024051519185 % of data points where variety is null\n",
      "6.921544036746659 % of data points where price is null\n"
     ]
    }
   ],
   "source": [
    "country_null = data.loc[data['country'].isnull()]\n",
    "desig_null = data.loc[data['designation'].isnull()]\n",
    "variety_null = data.loc[data['variety'].isnull()]\n",
    "price_null = data.loc[data['price'].isnull()]\n",
    "\n",
    "print(country_null.shape[0]/129971 *100,'% of data points where country is null')\n",
    "print(desig_null.shape[0]/129971 *100,'% of data points where designation is null')\n",
    "print(variety_null.shape[0]/129971 *100,'% of data points where variety is null')\n",
    "print(price_null.shape[0]/129971 *100,'% of data points where price is null')\n"
   ]
  },
  {
   "cell_type": "code",
   "execution_count": 13,
   "metadata": {},
   "outputs": [
    {
     "name": "stdout",
     "output_type": "stream",
     "text": [
      "Number of data points After eliminating variety=NULL : 129970\n"
     ]
    }
   ],
   "source": [
    "data = data.loc[~data['variety'].isnull()]\n",
    "print('Number of data points After eliminating variety=NULL :', data.shape[0])"
   ]
  },
  {
   "cell_type": "code",
   "execution_count": 14,
   "metadata": {},
   "outputs": [
    {
     "name": "stdout",
     "output_type": "stream",
     "text": [
      "Number of data points After eliminating country=NULL : 129907\n"
     ]
    }
   ],
   "source": [
    "data = data.loc[~data['country'].isnull()]\n",
    "print('Number of data points After eliminating country=NULL :', data.shape[0])"
   ]
  },
  {
   "cell_type": "code",
   "execution_count": 15,
   "metadata": {},
   "outputs": [
    {
     "name": "stdout",
     "output_type": "stream",
     "text": [
      "Number of data points After eliminating designation = NULL : 92454\n"
     ]
    }
   ],
   "source": [
    "data =data.loc[~data['designation'].isnull()]\n",
    "print('Number of data points After eliminating designation = NULL :', data.shape[0])"
   ]
  },
  {
   "cell_type": "code",
   "execution_count": 16,
   "metadata": {},
   "outputs": [
    {
     "name": "stdout",
     "output_type": "stream",
     "text": [
      "Number of data points After eliminating price = NULL : 86148\n"
     ]
    }
   ],
   "source": [
    "data = data.loc[~data['price'].isnull()]\n",
    "print('Number of data points After eliminating price = NULL :', data.shape[0])\n"
   ]
  },
  {
   "cell_type": "code",
   "execution_count": 17,
   "metadata": {},
   "outputs": [
    {
     "name": "stdout",
     "output_type": "stream",
     "text": [
      "66.28247839902748 % of data remained after eliminating null values\n"
     ]
    }
   ],
   "source": [
    "print(86148/129971 *100 ,\"% of data remained after eliminating null values\")"
   ]
  },
  {
   "cell_type": "code",
   "execution_count": 18,
   "metadata": {},
   "outputs": [
    {
     "data": {
      "text/html": [
       "<div>\n",
       "<style>\n",
       "    .dataframe thead tr:only-child th {\n",
       "        text-align: right;\n",
       "    }\n",
       "\n",
       "    .dataframe thead th {\n",
       "        text-align: left;\n",
       "    }\n",
       "\n",
       "    .dataframe tbody tr th {\n",
       "        vertical-align: top;\n",
       "    }\n",
       "</style>\n",
       "<table border=\"1\" class=\"dataframe\">\n",
       "  <thead>\n",
       "    <tr style=\"text-align: right;\">\n",
       "      <th></th>\n",
       "      <th>description</th>\n",
       "      <th>designation</th>\n",
       "      <th>country</th>\n",
       "      <th>title</th>\n",
       "      <th>variety</th>\n",
       "      <th>price</th>\n",
       "      <th>winery</th>\n",
       "    </tr>\n",
       "  </thead>\n",
       "  <tbody>\n",
       "    <tr>\n",
       "      <th>1</th>\n",
       "      <td>This is ripe and fruity, a wine that is smooth...</td>\n",
       "      <td>Avidagos</td>\n",
       "      <td>Portugal</td>\n",
       "      <td>Quinta dos Avidagos 2011 Avidagos Red (Douro)</td>\n",
       "      <td>Portuguese Red</td>\n",
       "      <td>15.0</td>\n",
       "      <td>Quinta dos Avidagos</td>\n",
       "    </tr>\n",
       "    <tr>\n",
       "      <th>3</th>\n",
       "      <td>Pineapple rind, lemon pith and orange blossom ...</td>\n",
       "      <td>Reserve Late Harvest</td>\n",
       "      <td>US</td>\n",
       "      <td>St. Julian 2013 Reserve Late Harvest Riesling ...</td>\n",
       "      <td>Riesling</td>\n",
       "      <td>13.0</td>\n",
       "      <td>St. Julian</td>\n",
       "    </tr>\n",
       "    <tr>\n",
       "      <th>4</th>\n",
       "      <td>Much like the regular bottling from 2012, this...</td>\n",
       "      <td>Vintner's Reserve Wild Child Block</td>\n",
       "      <td>US</td>\n",
       "      <td>Sweet Cheeks 2012 Vintner's Reserve Wild Child...</td>\n",
       "      <td>Pinot Noir</td>\n",
       "      <td>65.0</td>\n",
       "      <td>Sweet Cheeks</td>\n",
       "    </tr>\n",
       "    <tr>\n",
       "      <th>5</th>\n",
       "      <td>Blackberry and raspberry aromas show a typical...</td>\n",
       "      <td>Ars In Vitro</td>\n",
       "      <td>Spain</td>\n",
       "      <td>Tandem 2011 Ars In Vitro Tempranillo-Merlot (N...</td>\n",
       "      <td>Tempranillo-Merlot</td>\n",
       "      <td>15.0</td>\n",
       "      <td>Tandem</td>\n",
       "    </tr>\n",
       "    <tr>\n",
       "      <th>6</th>\n",
       "      <td>Here's a bright, informal red that opens with ...</td>\n",
       "      <td>Belsito</td>\n",
       "      <td>Italy</td>\n",
       "      <td>Terre di Giurfo 2013 Belsito Frappato (Vittoria)</td>\n",
       "      <td>Frappato</td>\n",
       "      <td>16.0</td>\n",
       "      <td>Terre di Giurfo</td>\n",
       "    </tr>\n",
       "  </tbody>\n",
       "</table>\n",
       "</div>"
      ],
      "text/plain": [
       "                                         description  \\\n",
       "1  This is ripe and fruity, a wine that is smooth...   \n",
       "3  Pineapple rind, lemon pith and orange blossom ...   \n",
       "4  Much like the regular bottling from 2012, this...   \n",
       "5  Blackberry and raspberry aromas show a typical...   \n",
       "6  Here's a bright, informal red that opens with ...   \n",
       "\n",
       "                          designation   country  \\\n",
       "1                            Avidagos  Portugal   \n",
       "3                Reserve Late Harvest        US   \n",
       "4  Vintner's Reserve Wild Child Block        US   \n",
       "5                        Ars In Vitro     Spain   \n",
       "6                             Belsito     Italy   \n",
       "\n",
       "                                               title             variety  \\\n",
       "1      Quinta dos Avidagos 2011 Avidagos Red (Douro)      Portuguese Red   \n",
       "3  St. Julian 2013 Reserve Late Harvest Riesling ...            Riesling   \n",
       "4  Sweet Cheeks 2012 Vintner's Reserve Wild Child...          Pinot Noir   \n",
       "5  Tandem 2011 Ars In Vitro Tempranillo-Merlot (N...  Tempranillo-Merlot   \n",
       "6   Terre di Giurfo 2013 Belsito Frappato (Vittoria)            Frappato   \n",
       "\n",
       "   price               winery  \n",
       "1   15.0  Quinta dos Avidagos  \n",
       "3   13.0           St. Julian  \n",
       "4   65.0         Sweet Cheeks  \n",
       "5   15.0               Tandem  \n",
       "6   16.0      Terre di Giurfo  "
      ]
     },
     "execution_count": 18,
     "metadata": {},
     "output_type": "execute_result"
    }
   ],
   "source": [
    "data.head()"
   ]
  },
  {
   "cell_type": "code",
   "execution_count": 19,
   "metadata": {},
   "outputs": [
    {
     "name": "stdout",
     "output_type": "stream",
     "text": [
      "6671\n",
      "7429\n"
     ]
    }
   ],
   "source": [
    "dup_description = sum(data.duplicated('description'))\n",
    "dup_title =  sum(data.duplicated('title'))\n",
    "print(dup_description)\n",
    "print(dup_title)"
   ]
  },
  {
   "cell_type": "code",
   "execution_count": 20,
   "metadata": {
    "scrolled": true
   },
   "outputs": [
    {
     "name": "stdout",
     "output_type": "stream",
     "text": [
      "<class 'pandas.core.frame.DataFrame'>\n"
     ]
    },
    {
     "data": {
      "text/html": [
       "<div>\n",
       "<style>\n",
       "    .dataframe thead tr:only-child th {\n",
       "        text-align: right;\n",
       "    }\n",
       "\n",
       "    .dataframe thead th {\n",
       "        text-align: left;\n",
       "    }\n",
       "\n",
       "    .dataframe tbody tr th {\n",
       "        vertical-align: top;\n",
       "    }\n",
       "</style>\n",
       "<table border=\"1\" class=\"dataframe\">\n",
       "  <thead>\n",
       "    <tr style=\"text-align: right;\">\n",
       "      <th></th>\n",
       "      <th>bool</th>\n",
       "    </tr>\n",
       "  </thead>\n",
       "  <tbody>\n",
       "    <tr>\n",
       "      <th>1</th>\n",
       "      <td>False</td>\n",
       "    </tr>\n",
       "    <tr>\n",
       "      <th>3</th>\n",
       "      <td>False</td>\n",
       "    </tr>\n",
       "    <tr>\n",
       "      <th>4</th>\n",
       "      <td>False</td>\n",
       "    </tr>\n",
       "    <tr>\n",
       "      <th>5</th>\n",
       "      <td>False</td>\n",
       "    </tr>\n",
       "    <tr>\n",
       "      <th>6</th>\n",
       "      <td>False</td>\n",
       "    </tr>\n",
       "  </tbody>\n",
       "</table>\n",
       "</div>"
      ],
      "text/plain": [
       "    bool\n",
       "1  False\n",
       "3  False\n",
       "4  False\n",
       "5  False\n",
       "6  False"
      ]
     },
     "execution_count": 20,
     "metadata": {},
     "output_type": "execute_result"
    }
   ],
   "source": [
    "dup_desc = data.duplicated('description')\n",
    "dup = pd.DataFrame(dup_desc)\n",
    "print(type(dup))\n",
    "dup.head()\n",
    "dup.columns = ['bool']    \n",
    "dup.head()"
   ]
  },
  {
   "cell_type": "code",
   "execution_count": 21,
   "metadata": {
    "scrolled": true
   },
   "outputs": [
    {
     "data": {
      "text/html": [
       "<div>\n",
       "<style>\n",
       "    .dataframe thead tr:only-child th {\n",
       "        text-align: right;\n",
       "    }\n",
       "\n",
       "    .dataframe thead th {\n",
       "        text-align: left;\n",
       "    }\n",
       "\n",
       "    .dataframe tbody tr th {\n",
       "        vertical-align: top;\n",
       "    }\n",
       "</style>\n",
       "<table border=\"1\" class=\"dataframe\">\n",
       "  <thead>\n",
       "    <tr style=\"text-align: right;\">\n",
       "      <th></th>\n",
       "      <th>bool</th>\n",
       "    </tr>\n",
       "  </thead>\n",
       "  <tbody>\n",
       "    <tr>\n",
       "      <th>2409</th>\n",
       "      <td>True</td>\n",
       "    </tr>\n",
       "    <tr>\n",
       "      <th>2410</th>\n",
       "      <td>True</td>\n",
       "    </tr>\n",
       "    <tr>\n",
       "      <th>2412</th>\n",
       "      <td>True</td>\n",
       "    </tr>\n",
       "    <tr>\n",
       "      <th>2413</th>\n",
       "      <td>True</td>\n",
       "    </tr>\n",
       "    <tr>\n",
       "      <th>2694</th>\n",
       "      <td>True</td>\n",
       "    </tr>\n",
       "    <tr>\n",
       "      <th>3431</th>\n",
       "      <td>True</td>\n",
       "    </tr>\n",
       "    <tr>\n",
       "      <th>3432</th>\n",
       "      <td>True</td>\n",
       "    </tr>\n",
       "    <tr>\n",
       "      <th>3433</th>\n",
       "      <td>True</td>\n",
       "    </tr>\n",
       "    <tr>\n",
       "      <th>4093</th>\n",
       "      <td>True</td>\n",
       "    </tr>\n",
       "    <tr>\n",
       "      <th>4094</th>\n",
       "      <td>True</td>\n",
       "    </tr>\n",
       "    <tr>\n",
       "      <th>4095</th>\n",
       "      <td>True</td>\n",
       "    </tr>\n",
       "    <tr>\n",
       "      <th>4096</th>\n",
       "      <td>True</td>\n",
       "    </tr>\n",
       "    <tr>\n",
       "      <th>4287</th>\n",
       "      <td>True</td>\n",
       "    </tr>\n",
       "    <tr>\n",
       "      <th>5089</th>\n",
       "      <td>True</td>\n",
       "    </tr>\n",
       "    <tr>\n",
       "      <th>5091</th>\n",
       "      <td>True</td>\n",
       "    </tr>\n",
       "    <tr>\n",
       "      <th>5092</th>\n",
       "      <td>True</td>\n",
       "    </tr>\n",
       "    <tr>\n",
       "      <th>5093</th>\n",
       "      <td>True</td>\n",
       "    </tr>\n",
       "    <tr>\n",
       "      <th>5094</th>\n",
       "      <td>True</td>\n",
       "    </tr>\n",
       "    <tr>\n",
       "      <th>5099</th>\n",
       "      <td>True</td>\n",
       "    </tr>\n",
       "    <tr>\n",
       "      <th>5693</th>\n",
       "      <td>True</td>\n",
       "    </tr>\n",
       "    <tr>\n",
       "      <th>5701</th>\n",
       "      <td>True</td>\n",
       "    </tr>\n",
       "    <tr>\n",
       "      <th>5704</th>\n",
       "      <td>True</td>\n",
       "    </tr>\n",
       "    <tr>\n",
       "      <th>7499</th>\n",
       "      <td>True</td>\n",
       "    </tr>\n",
       "    <tr>\n",
       "      <th>7567</th>\n",
       "      <td>True</td>\n",
       "    </tr>\n",
       "    <tr>\n",
       "      <th>7573</th>\n",
       "      <td>True</td>\n",
       "    </tr>\n",
       "    <tr>\n",
       "      <th>7578</th>\n",
       "      <td>True</td>\n",
       "    </tr>\n",
       "    <tr>\n",
       "      <th>7579</th>\n",
       "      <td>True</td>\n",
       "    </tr>\n",
       "    <tr>\n",
       "      <th>7580</th>\n",
       "      <td>True</td>\n",
       "    </tr>\n",
       "    <tr>\n",
       "      <th>8467</th>\n",
       "      <td>True</td>\n",
       "    </tr>\n",
       "    <tr>\n",
       "      <th>8469</th>\n",
       "      <td>True</td>\n",
       "    </tr>\n",
       "    <tr>\n",
       "      <th>...</th>\n",
       "      <td>...</td>\n",
       "    </tr>\n",
       "    <tr>\n",
       "      <th>129685</th>\n",
       "      <td>True</td>\n",
       "    </tr>\n",
       "    <tr>\n",
       "      <th>129686</th>\n",
       "      <td>True</td>\n",
       "    </tr>\n",
       "    <tr>\n",
       "      <th>129711</th>\n",
       "      <td>True</td>\n",
       "    </tr>\n",
       "    <tr>\n",
       "      <th>129712</th>\n",
       "      <td>True</td>\n",
       "    </tr>\n",
       "    <tr>\n",
       "      <th>129714</th>\n",
       "      <td>True</td>\n",
       "    </tr>\n",
       "    <tr>\n",
       "      <th>129715</th>\n",
       "      <td>True</td>\n",
       "    </tr>\n",
       "    <tr>\n",
       "      <th>129747</th>\n",
       "      <td>True</td>\n",
       "    </tr>\n",
       "    <tr>\n",
       "      <th>129765</th>\n",
       "      <td>True</td>\n",
       "    </tr>\n",
       "    <tr>\n",
       "      <th>129766</th>\n",
       "      <td>True</td>\n",
       "    </tr>\n",
       "    <tr>\n",
       "      <th>129768</th>\n",
       "      <td>True</td>\n",
       "    </tr>\n",
       "    <tr>\n",
       "      <th>129769</th>\n",
       "      <td>True</td>\n",
       "    </tr>\n",
       "    <tr>\n",
       "      <th>129770</th>\n",
       "      <td>True</td>\n",
       "    </tr>\n",
       "    <tr>\n",
       "      <th>129771</th>\n",
       "      <td>True</td>\n",
       "    </tr>\n",
       "    <tr>\n",
       "      <th>129773</th>\n",
       "      <td>True</td>\n",
       "    </tr>\n",
       "    <tr>\n",
       "      <th>129774</th>\n",
       "      <td>True</td>\n",
       "    </tr>\n",
       "    <tr>\n",
       "      <th>129775</th>\n",
       "      <td>True</td>\n",
       "    </tr>\n",
       "    <tr>\n",
       "      <th>129776</th>\n",
       "      <td>True</td>\n",
       "    </tr>\n",
       "    <tr>\n",
       "      <th>129798</th>\n",
       "      <td>True</td>\n",
       "    </tr>\n",
       "    <tr>\n",
       "      <th>129799</th>\n",
       "      <td>True</td>\n",
       "    </tr>\n",
       "    <tr>\n",
       "      <th>129800</th>\n",
       "      <td>True</td>\n",
       "    </tr>\n",
       "    <tr>\n",
       "      <th>129801</th>\n",
       "      <td>True</td>\n",
       "    </tr>\n",
       "    <tr>\n",
       "      <th>129803</th>\n",
       "      <td>True</td>\n",
       "    </tr>\n",
       "    <tr>\n",
       "      <th>129804</th>\n",
       "      <td>True</td>\n",
       "    </tr>\n",
       "    <tr>\n",
       "      <th>129837</th>\n",
       "      <td>True</td>\n",
       "    </tr>\n",
       "    <tr>\n",
       "      <th>129838</th>\n",
       "      <td>True</td>\n",
       "    </tr>\n",
       "    <tr>\n",
       "      <th>129877</th>\n",
       "      <td>True</td>\n",
       "    </tr>\n",
       "    <tr>\n",
       "      <th>129878</th>\n",
       "      <td>True</td>\n",
       "    </tr>\n",
       "    <tr>\n",
       "      <th>129879</th>\n",
       "      <td>True</td>\n",
       "    </tr>\n",
       "    <tr>\n",
       "      <th>129882</th>\n",
       "      <td>True</td>\n",
       "    </tr>\n",
       "    <tr>\n",
       "      <th>129913</th>\n",
       "      <td>True</td>\n",
       "    </tr>\n",
       "  </tbody>\n",
       "</table>\n",
       "<p>6671 rows × 1 columns</p>\n",
       "</div>"
      ],
      "text/plain": [
       "        bool\n",
       "2409    True\n",
       "2410    True\n",
       "2412    True\n",
       "2413    True\n",
       "2694    True\n",
       "3431    True\n",
       "3432    True\n",
       "3433    True\n",
       "4093    True\n",
       "4094    True\n",
       "4095    True\n",
       "4096    True\n",
       "4287    True\n",
       "5089    True\n",
       "5091    True\n",
       "5092    True\n",
       "5093    True\n",
       "5094    True\n",
       "5099    True\n",
       "5693    True\n",
       "5701    True\n",
       "5704    True\n",
       "7499    True\n",
       "7567    True\n",
       "7573    True\n",
       "7578    True\n",
       "7579    True\n",
       "7580    True\n",
       "8467    True\n",
       "8469    True\n",
       "...      ...\n",
       "129685  True\n",
       "129686  True\n",
       "129711  True\n",
       "129712  True\n",
       "129714  True\n",
       "129715  True\n",
       "129747  True\n",
       "129765  True\n",
       "129766  True\n",
       "129768  True\n",
       "129769  True\n",
       "129770  True\n",
       "129771  True\n",
       "129773  True\n",
       "129774  True\n",
       "129775  True\n",
       "129776  True\n",
       "129798  True\n",
       "129799  True\n",
       "129800  True\n",
       "129801  True\n",
       "129803  True\n",
       "129804  True\n",
       "129837  True\n",
       "129838  True\n",
       "129877  True\n",
       "129878  True\n",
       "129879  True\n",
       "129882  True\n",
       "129913  True\n",
       "\n",
       "[6671 rows x 1 columns]"
      ]
     },
     "execution_count": 21,
     "metadata": {},
     "output_type": "execute_result"
    }
   ],
   "source": [
    "index = dup.loc[dup['bool'] == True]\n",
    "index"
   ]
  },
  {
   "cell_type": "code",
   "execution_count": 26,
   "metadata": {
    "collapsed": true
   },
   "outputs": [],
   "source": [
    "for i in index.iterrows():\n",
    "    data = data.drop(i[0])"
   ]
  },
  {
   "cell_type": "code",
   "execution_count": 27,
   "metadata": {},
   "outputs": [
    {
     "data": {
      "text/plain": [
       "(79477, 7)"
      ]
     },
     "execution_count": 27,
     "metadata": {},
     "output_type": "execute_result"
    }
   ],
   "source": [
    "data.shape"
   ]
  },
  {
   "cell_type": "code",
   "execution_count": 28,
   "metadata": {
    "collapsed": true
   },
   "outputs": [],
   "source": [
    "dup_title = data.duplicated('title')\n",
    "dup_title = pd.DataFrame(dup_title)\n",
    "dup_title.columns = ['bool']    \n",
    "dup_title.head()\n",
    "indx = dup_title.loc[dup_title['bool'] == True]\n",
    "for i in indx.iterrows():\n",
    "    data = data.drop(i[0])\n",
    "    "
   ]
  },
  {
   "cell_type": "code",
   "execution_count": 29,
   "metadata": {},
   "outputs": [
    {
     "data": {
      "text/plain": [
       "(78708, 7)"
      ]
     },
     "execution_count": 29,
     "metadata": {},
     "output_type": "execute_result"
    }
   ],
   "source": [
    "data.shape"
   ]
  },
  {
   "cell_type": "code",
   "execution_count": 30,
   "metadata": {
    "collapsed": true
   },
   "outputs": [],
   "source": [
    "data.to_pickle('pickels/data_dedupe')"
   ]
  },
  {
   "cell_type": "code",
   "execution_count": 22,
   "metadata": {
    "collapsed": true
   },
   "outputs": [],
   "source": [
    "data = pd.read_pickle('pickels/data_dedupe')"
   ]
  },
  {
   "cell_type": "code",
   "execution_count": 23,
   "metadata": {},
   "outputs": [
    {
     "data": {
      "text/plain": [
       "1    This is ripe and fruity, a wine that is smooth...\n",
       "3    Pineapple rind, lemon pith and orange blossom ...\n",
       "4    Much like the regular bottling from 2012, this...\n",
       "5    Blackberry and raspberry aromas show a typical...\n",
       "6    Here's a bright, informal red that opens with ...\n",
       "Name: description, dtype: object"
      ]
     },
     "execution_count": 23,
     "metadata": {},
     "output_type": "execute_result"
    }
   ],
   "source": [
    "data['description'].head()"
   ]
  },
  {
   "cell_type": "code",
   "execution_count": 24,
   "metadata": {},
   "outputs": [
    {
     "data": {
      "text/plain": [
       "(78708, 7)"
      ]
     },
     "execution_count": 24,
     "metadata": {},
     "output_type": "execute_result"
    }
   ],
   "source": [
    "data.shape"
   ]
  },
  {
   "cell_type": "code",
   "execution_count": 25,
   "metadata": {},
   "outputs": [
    {
     "data": {
      "text/plain": [
       "Petit Courbu                   1\n",
       "Greco Bianco                   1\n",
       "Gragnano                       1\n",
       "Cabernet Franc-Lemberger       1\n",
       "Groppello                      1\n",
       "Gelber Traminer                1\n",
       "Syrah-Carignan                 1\n",
       "Caprettone                     1\n",
       "Babosa Negro                   1\n",
       "Rosenmuskateller               1\n",
       "Torbato                        1\n",
       "Tinta Miúda                    1\n",
       "Cabernet Sauvignon Grenache    1\n",
       "Zlahtina                       1\n",
       "Syrah-Grenache-Viognier        1\n",
       "Schwartzriesling               1\n",
       "Sideritis                      1\n",
       "Clairette                      1\n",
       "Chardonnay-Pinot Gris          1\n",
       "Diamond                        1\n",
       "Name: variety, dtype: int64"
      ]
     },
     "execution_count": 25,
     "metadata": {},
     "output_type": "execute_result"
    }
   ],
   "source": [
    "c = data['variety'].value_counts()\n",
    "c.tail(20)"
   ]
  },
  {
   "cell_type": "code",
   "execution_count": 26,
   "metadata": {
    "scrolled": false
   },
   "outputs": [
    {
     "data": {
      "image/png": "[encoded data removed]",
      "text/plain": [
       "<matplotlib.figure.Figure at 0xa088ed86d8>"
      ]
     },
     "metadata": {},
     "output_type": "display_data"
    }
   ],
   "source": [
    "data = data.groupby('variety').filter(lambda x: len(x) >100)\n",
    "list = data.variety.value_counts().index.tolist()\n",
    "fig4, ax4 = plt.subplots(figsize = (20,7))\n",
    "sns.countplot(x='variety', data=data, order = list, ax=ax4)\n",
    "plt.xticks(rotation = 90)\n",
    "plt.show()"
   ]
  },
  {
   "cell_type": "code",
   "execution_count": 27,
   "metadata": {},
   "outputs": [
    {
     "data": {
      "text/plain": [
       "1    This is ripe and fruity, a wine that is smooth...\n",
       "3    Pineapple rind, lemon pith and orange blossom ...\n",
       "4    Much like the regular bottling from 2012, this...\n",
       "8    Savory dried thyme notes accent sunnier flavor...\n",
       "9    This has great depth of flavor with its fresh ...\n",
       "Name: description, dtype: object"
      ]
     },
     "execution_count": 27,
     "metadata": {},
     "output_type": "execute_result"
    }
   ],
   "source": [
    "data['description'].head()"
   ]
  },
  {
   "cell_type": "code",
   "execution_count": 28,
   "metadata": {},
   "outputs": [
    {
     "data": {
      "text/plain": [
       "count          72276\n",
       "unique            68\n",
       "top       Pinot Noir\n",
       "freq            8779\n",
       "Name: variety, dtype: object"
      ]
     },
     "execution_count": 28,
     "metadata": {},
     "output_type": "execute_result"
    }
   ],
   "source": [
    "g=data.groupby('variety')\n",
    "data = g.filter(lambda x: len(x) > 100)\n",
    "data['variety'].describe()"
   ]
  },
  {
   "cell_type": "code",
   "execution_count": 29,
   "metadata": {},
   "outputs": [
    {
     "name": "stdout",
     "output_type": "stream",
     "text": [
      "          variety\n",
      "1  Portuguese Red\n",
      "3        Riesling\n",
      "4      Pinot Noir\n",
      "8  Gewürztraminer\n",
      "9      Pinot Gris\n",
      "Index(['description', 'designation', 'country', 'title', 'price', 'winery'], dtype='object')\n"
     ]
    }
   ],
   "source": [
    "target = pd.DataFrame(data['variety'])\n",
    "target.columns = ['variety']\n",
    "data = data.drop('variety',axis=1)\n",
    "print(target.head())\n",
    "print(data.columns)"
   ]
  },
  {
   "cell_type": "code",
   "execution_count": 30,
   "metadata": {},
   "outputs": [
    {
     "data": {
      "text/plain": [
       "(72276, 1)"
      ]
     },
     "execution_count": 30,
     "metadata": {},
     "output_type": "execute_result"
    }
   ],
   "source": [
    "target.shape"
   ]
  },
  {
   "cell_type": "code",
   "execution_count": 37,
   "metadata": {
    "collapsed": true,
    "scrolled": true
   },
   "outputs": [],
   "source": [
    "target.to_pickle('pickels/target')"
   ]
  },
  {
   "cell_type": "code",
   "execution_count": 2,
   "metadata": {
    "collapsed": true,
    "scrolled": true
   },
   "outputs": [],
   "source": [
    "target = pd.read_pickle('pickels/target')\n"
   ]
  },
  {
   "cell_type": "code",
   "execution_count": 4,
   "metadata": {},
   "outputs": [
    {
     "data": {
      "text/plain": [
       "'red_wines = {\\'cabernet_sauvignon\\',\\'shiraz\\',\\'merlot\\',\\'pinot_noir\\',\\'grenache\\',\\'red_blend\\',\\'portuguese_red\\',\\n             \\'barbera\\',\\'zinfandel\\',\\'montepulciano\\',\\'valpolicella\\',\\'barbaresco\\',\\'bardolino\\',\\'beaujolais\\',\\'schicava\\',\\n            \\'gamay\\',\\'garnacha\\',\\'cabernet_franc\\',\\'valpolicella_blend\\',\\'menc_a\\',\\'sangiovese\\',\\'negroamaro\\',\\'carmen_re\\',\\n            \\'g_s_m\\',\\'rh_ne_style_red_blend\\',\\'montepulciano\\',\\'tempranillo\\',\\'mourv_dre\\',\\'malbec\\',\\'nebbiolo\\',\\'nero_d_avola\\',\\n            \\'aglianico\\',\\'bordeaux_style_red_blend\\',\\'syrah\\',\\'petit_verdot\\',\\'touriga_nacional\\',\\'petite_sirah\\',\\'tannat\\',\\'port\\',\\n            \\'primitivo\\',\\'sangiovese_grosso\\',\\'tempranillo_blend\\',\\'tinta_de_toro\\',\\'zweigelt\\',\\'blaufr_nkisch\\',\\n             \\'corvina__rondinella__molinara\\'}\\nwhite_wines = {\\'albari_o\\',\\'aligote\\',\\'auslese\\',\\'chenin_blanc\\',\\'sauvignon\\',\\'verdelho\\',\\'semillon\\',\\'chardonnay\\',\\'riesling\\',\\n               \\'pinot_gris\\',\\'pinot_grigio\\',\\'white_blend\\',\\'blanc_e_blancs\\',\\'garganega\\',\\'pinot_blanc\\',\\'pinot_grigio\\',\\n               \\'verdicchio\\',\\'gr_ner_veltliner\\',\\'sauvignon_blanc\\',\\'verdejo\\',\\'vermentino\\',\\'viognier\\',\\'gew_rztraminer\\',\\n               \\'torrontés\\',\\'bordeaux_style_white_blend\\',\\'rh_ne_style_white_blend\\',\\'melon\\',\\'meritage\\',\\'moscato\\',\\n               \\'portuguese_white\\',\\'torront_s\\'}\\nsparkling_wines = {\\'champagne\\',\\'sparkling_white\\',\\'sparkling_red\\',\\'sparkling_rose\\',\\'sparkling_blend\\',\\'asti_spumante\\',\\n                   \\'champagne_blend\\',\\'glera\\',\\'prosecco\\'}\\nrose_wines = {\\'ros_\\',\\'pinot_nero\\'}\\ndef converting(total_text, index, column):\\n    string = \"\"\\n    # replace evershoy special char with space\\n    total_text = re.sub(\\'[^a-zA-Z0-9\\n]\\', \\' \\', total_text)\\n    # replace multiple spaces with single space\\n    total_text = re.sub(\\'\\\\s\\',\\'_\\', total_text)\\n    # converting all the chars into lower-case.\\n    total_text = total_text.lower()\\n    for words in total_text.split():\\n\\n        if words in red_wines:\\n            words = \\'red_wines\\'\\n            string += words\\n        elif words in white_wines:\\n            words = \\'white_wines\\'\\n            string += words\\n        elif words in sparkling_wines:\\n            words = \\'sparkling_wines\\'\\n            string += words\\n        elif words in rose_wines:\\n            words = \\'rose_wines\\'\\n            string += words\\n        else:\\n            string += words\\n    target[column][index] = string\\nfor index, row in target.iterrows():\\n    converting(row[\\'variety\\'], index, \\'variety\\')   '"
      ]
     },
     "execution_count": 4,
     "metadata": {},
     "output_type": "execute_result"
    }
   ],
   "source": [
    "'''red_wines = {'cabernet_sauvignon','shiraz','merlot','pinot_noir','grenache','red_blend','portuguese_red',\n",
    "             'barbera','zinfandel','montepulciano','valpolicella','barbaresco','bardolino','beaujolais','schicava',\n",
    "            'gamay','garnacha','cabernet_franc','valpolicella_blend','menc_a','sangiovese','negroamaro','carmen_re',\n",
    "            'g_s_m','rh_ne_style_red_blend','montepulciano','tempranillo','mourv_dre','malbec','nebbiolo','nero_d_avola',\n",
    "            'aglianico','bordeaux_style_red_blend','syrah','petit_verdot','touriga_nacional','petite_sirah','tannat','port',\n",
    "            'primitivo','sangiovese_grosso','tempranillo_blend','tinta_de_toro','zweigelt','blaufr_nkisch',\n",
    "             'corvina__rondinella__molinara'}\n",
    "white_wines = {'albari_o','aligote','auslese','chenin_blanc','sauvignon','verdelho','semillon','chardonnay','riesling',\n",
    "               'pinot_gris','pinot_grigio','white_blend','blanc_e_blancs','garganega','pinot_blanc','pinot_grigio',\n",
    "               'verdicchio','gr_ner_veltliner','sauvignon_blanc','verdejo','vermentino','viognier','gew_rztraminer',\n",
    "               'torrontés','bordeaux_style_white_blend','rh_ne_style_white_blend','melon','meritage','moscato',\n",
    "               'portuguese_white','torront_s'}\n",
    "sparkling_wines = {'champagne','sparkling_white','sparkling_red','sparkling_rose','sparkling_blend','asti_spumante',\n",
    "                   'champagne_blend','glera','prosecco'}\n",
    "rose_wines = {'ros_','pinot_nero'}\n",
    "def converting(total_text, index, column):\n",
    "    string = \"\"\n",
    "    # replace evershoy special char with space\n",
    "    total_text = re.sub('[^a-zA-Z0-9\\n]', ' ', total_text)\n",
    "    # replace multiple spaces with single space\n",
    "    total_text = re.sub('\\s','_', total_text)\n",
    "    # converting all the chars into lower-case.\n",
    "    total_text = total_text.lower()\n",
    "    for words in total_text.split():\n",
    "\n",
    "        if words in red_wines:\n",
    "            words = 'red_wines'\n",
    "            string += words\n",
    "        elif words in white_wines:\n",
    "            words = 'white_wines'\n",
    "            string += words\n",
    "        elif words in sparkling_wines:\n",
    "            words = 'sparkling_wines'\n",
    "            string += words\n",
    "        elif words in rose_wines:\n",
    "            words = 'rose_wines'\n",
    "            string += words\n",
    "        else:\n",
    "            string += words\n",
    "    target[column][index] = string\n",
    "for index, row in target.iterrows():\n",
    "    converting(row['variety'], index, 'variety')   '''  "
   ]
  },
  {
   "cell_type": "code",
   "execution_count": 32,
   "metadata": {},
   "outputs": [
    {
     "ename": "ModuleNotFoundError",
     "evalue": "No module named 'wordcloud'",
     "output_type": "error",
     "traceback": [
      "\u001b[1;31m---------------------------------------------------------------------------\u001b[0m",
      "\u001b[1;31mModuleNotFoundError\u001b[0m                       Traceback (most recent call last)",
      "\u001b[1;32m<ipython-input-32-1602a4058d6d>\u001b[0m in \u001b[0;36m<module>\u001b[1;34m()\u001b[0m\n\u001b[1;32m----> 1\u001b[1;33m \u001b[1;32mfrom\u001b[0m \u001b[0mwordcloud\u001b[0m \u001b[1;32mimport\u001b[0m \u001b[0mWordCloud\u001b[0m\u001b[1;33m\u001b[0m\u001b[0m\n\u001b[0m\u001b[0;32m      2\u001b[0m \u001b[0mfreq\u001b[0m\u001b[1;33m=\u001b[0m\u001b[0mdf\u001b[0m\u001b[1;33m[\u001b[0m\u001b[0mdf\u001b[0m\u001b[1;33m[\u001b[0m\u001b[1;34m'price'\u001b[0m\u001b[1;33m]\u001b[0m\u001b[1;33m>=\u001b[0m\u001b[1;36m65\u001b[0m\u001b[1;33m]\u001b[0m\u001b[1;33m\u001b[0m\u001b[0m\n\u001b[0;32m      3\u001b[0m \u001b[1;33m\u001b[0m\u001b[0m\n\u001b[0;32m      4\u001b[0m \u001b[0mwordcloud\u001b[0m \u001b[1;33m=\u001b[0m \u001b[0mWordCloud\u001b[0m\u001b[1;33m(\u001b[0m\u001b[0mwidth\u001b[0m \u001b[1;33m=\u001b[0m \u001b[1;36m1000\u001b[0m\u001b[1;33m,\u001b[0m \u001b[0mheight\u001b[0m \u001b[1;33m=\u001b[0m \u001b[1;36m500\u001b[0m\u001b[1;33m,\u001b[0m \u001b[0mbackground_color\u001b[0m\u001b[1;33m=\u001b[0m\u001b[1;34m'black'\u001b[0m\u001b[1;33m)\u001b[0m\u001b[1;33m.\u001b[0m\u001b[0mgenerate\u001b[0m\u001b[1;33m(\u001b[0m\u001b[1;34m' '\u001b[0m\u001b[1;33m.\u001b[0m\u001b[0mjoin\u001b[0m\u001b[1;33m(\u001b[0m\u001b[0mfreq\u001b[0m\u001b[1;33m[\u001b[0m\u001b[1;34m'description'\u001b[0m\u001b[1;33m]\u001b[0m\u001b[1;33m)\u001b[0m\u001b[1;33m)\u001b[0m\u001b[1;33m\u001b[0m\u001b[0m\n\u001b[0;32m      5\u001b[0m \u001b[1;33m\u001b[0m\u001b[0m\n",
      "\u001b[1;31mModuleNotFoundError\u001b[0m: No module named 'wordcloud'"
     ]
    }
   ],
   "source": [
    "from wordcloud import WordCloud\n",
    "freq=df[df['price']>=65]\n",
    "\n",
    "wordcloud = WordCloud(width = 1000, height = 500, background_color='black').generate(' '.join(freq['description']))\n",
    "\n",
    "plt.figure(figsize=(15,8))\n",
    "\n",
    "plt.imshow(wordcloud)\n",
    "\n",
    "plt.axis(\"off\")\n",
    "\n",
    "plt.title('Most frequent words useed to describe top rated wines')\n",
    "# see thz can i add most freuent wrds in tht blog.?"
   ]
  },
  {
   "cell_type": "code",
   "execution_count": 33,
   "metadata": {
    "scrolled": true
   },
   "outputs": [
    {
     "data": {
      "text/plain": [
       "Counter({'Aglianico': 200,\n",
       "         'Albariño': 199,\n",
       "         'Barbera': 357,\n",
       "         'Blaufränkisch': 127,\n",
       "         'Bordeaux-style Red Blend': 2692,\n",
       "         'Bordeaux-style White Blend': 226,\n",
       "         'Cabernet Franc': 725,\n",
       "         'Cabernet Sauvignon': 5350,\n",
       "         'Carmenère': 458,\n",
       "         'Champagne Blend': 953,\n",
       "         'Chardonnay': 6757,\n",
       "         'Chenin Blanc': 345,\n",
       "         'Corvina, Rondinella, Molinara': 296,\n",
       "         'G-S-M': 138,\n",
       "         'Gamay': 537,\n",
       "         'Garganega': 160,\n",
       "         'Garnacha': 234,\n",
       "         'Gewürztraminer': 612,\n",
       "         'Glera': 494,\n",
       "         'Grenache': 439,\n",
       "         'Grüner Veltliner': 896,\n",
       "         'Malbec': 1813,\n",
       "         'Melon': 213,\n",
       "         'Mencía': 110,\n",
       "         'Meritage': 125,\n",
       "         'Merlot': 1491,\n",
       "         'Montepulciano': 136,\n",
       "         'Moscato': 169,\n",
       "         'Mourvèdre': 135,\n",
       "         'Nebbiolo': 1708,\n",
       "         \"Nero d'Avola\": 216,\n",
       "         'Petit Verdot': 159,\n",
       "         'Petite Sirah': 390,\n",
       "         'Pinot Blanc': 190,\n",
       "         'Pinot Grigio': 339,\n",
       "         'Pinot Gris': 703,\n",
       "         'Pinot Nero': 102,\n",
       "         'Pinot Noir': 8779,\n",
       "         'Port': 454,\n",
       "         'Portuguese Red': 1892,\n",
       "         'Portuguese White': 841,\n",
       "         'Primitivo': 133,\n",
       "         'Prosecco': 162,\n",
       "         'Red Blend': 6503,\n",
       "         'Rhône-style Red Blend': 1071,\n",
       "         'Rhône-style White Blend': 330,\n",
       "         'Riesling': 3857,\n",
       "         'Rosé': 2086,\n",
       "         'Sangiovese': 1248,\n",
       "         'Sangiovese Grosso': 229,\n",
       "         'Sauvignon': 147,\n",
       "         'Sauvignon Blanc': 2496,\n",
       "         'Shiraz': 531,\n",
       "         'Sparkling Blend': 1565,\n",
       "         'Syrah': 2785,\n",
       "         'Tannat': 120,\n",
       "         'Tempranillo': 1312,\n",
       "         'Tempranillo Blend': 525,\n",
       "         'Tinta de Toro': 130,\n",
       "         'Torrontés': 157,\n",
       "         'Touriga Nacional': 102,\n",
       "         'Verdejo': 122,\n",
       "         'Verdicchio': 118,\n",
       "         'Vermentino': 130,\n",
       "         'Viognier': 507,\n",
       "         'White Blend': 1742,\n",
       "         'Zinfandel': 1901,\n",
       "         'Zweigelt': 107})"
      ]
     },
     "execution_count": 33,
     "metadata": {},
     "output_type": "execute_result"
    }
   ],
   "source": [
    "Counter(target['variety'])"
   ]
  },
  {
   "cell_type": "code",
   "execution_count": 33,
   "metadata": {},
   "outputs": [
    {
     "name": "stdout",
     "output_type": "stream",
     "text": [
      "list of stop words: {'not', 'an', 'other', 'mightn', 'didn', 'myself', 'was', 'are', 'very', 'be', 'during', 'over', 'only', 'we', 'both', 'have', 'which', 'his', 'its', 'them', 'against', 'ma', 'after', 'more', 'most', 'won', 'your', 'do', 'you', 'o', 'isn', 'so', 'has', 'shan', 'own', 'couldn', 'their', 'my', 'yours', 'nor', 'is', 'when', 'by', 'each', 'm', 'am', 'don', 'd', 'in', 'further', 'all', 'these', 'does', 'ain', 'weren', 're', 'haven', 'hers', 'he', 'did', 'ours', 'hasn', 'himself', 'she', 'having', 'for', 'once', 'they', 'can', 'wasn', 'theirs', 'ourselves', 'under', 'hadn', 'too', 'any', 'no', 'before', 'shouldn', 'through', 't', 'yourself', 'those', 'had', 'needn', 'because', 'at', 'been', 'to', 'just', 'our', 'who', 'him', 'yourselves', 'should', 'same', 'then', 'and', 've', 'that', 'y', 'were', 'where', 'doesn', 'while', 'as', 'down', 'out', 'how', 'above', 'again', 'until', 'there', 'why', 'herself', 'it', 'here', 'some', 'will', 'i', 'itself', 'of', 'her', 'from', 'between', 'doing', 'this', 'what', 'a', 'such', 'wouldn', 'off', 'with', 'or', 'up', 'the', 'll', 'few', 'themselves', 'if', 'but', 'on', 's', 'about', 'me', 'than', 'now', 'being', 'whom', 'mustn', 'into', 'aren', 'below'}\n"
     ]
    }
   ],
   "source": [
    "stop_words = set(stopwords.words('english'))\n",
    "print ('list of stop words:', stop_words)\n",
    "\n",
    "def nlp_preprocessing(total_text, index, column):\n",
    "    if type(total_text) is not int:\n",
    "        string = \"\"\n",
    "        for words in total_text.split():\n",
    "            # remove the special chars in review like '\"#$@!%^&*()_+-~?>< etc.\n",
    "            word = (\"\".join(e for e in words if e.isalnum()))\n",
    "            # Conver all letters to lower-case\n",
    "            word = word.lower()\n",
    "            # stop-word removal\n",
    "            if not word in stop_words:\n",
    "                string += word + \" \"\n",
    "        data[column][index] = string"
   ]
  },
  {
   "cell_type": "code",
   "execution_count": 34,
   "metadata": {},
   "outputs": [
    {
     "name": "stdout",
     "output_type": "stream",
     "text": [
      "10879.265836138378 seconds\n"
     ]
    }
   ],
   "source": [
    "import time\n",
    "start_time = time.clock()\n",
    "# we take each title and we text-preprocess it.\n",
    "for index, row in data.iterrows():\n",
    "    nlp_preprocessing(row['description'], index, 'description')\n",
    "# we print the time it took to preprocess whole titles \n",
    "print(time.clock() - start_time, \"seconds\")"
   ]
  },
  {
   "cell_type": "code",
   "execution_count": 8,
   "metadata": {
    "collapsed": true
   },
   "outputs": [],
   "source": [
    "data.to_pickle('pickels/after_stopwrds')"
   ]
  },
  {
   "cell_type": "code",
   "execution_count": 3,
   "metadata": {
    "collapsed": true
   },
   "outputs": [],
   "source": [
    "data = pd.read_pickle('pickels/after_stopwrds')"
   ]
  },
  {
   "cell_type": "code",
   "execution_count": 4,
   "metadata": {},
   "outputs": [
    {
     "data": {
      "text/plain": [
       "(72276, 6)"
      ]
     },
     "execution_count": 4,
     "metadata": {},
     "output_type": "execute_result"
    }
   ],
   "source": [
    "data.shape"
   ]
  },
  {
   "cell_type": "code",
   "execution_count": 5,
   "metadata": {},
   "outputs": [
    {
     "data": {
      "text/plain": [
       "1    ripe fruity wine smooth still structured firm ...\n",
       "3    pineapple rind lemon pith orange blossom start...\n",
       "4    much like regular bottling 2012 comes across r...\n",
       "8    savory dried thyme notes accent sunnier flavor...\n",
       "9    great depth flavor fresh apple pear fruits tou...\n",
       "Name: description, dtype: object"
      ]
     },
     "execution_count": 5,
     "metadata": {},
     "output_type": "execute_result"
    }
   ],
   "source": [
    "data['description'].head()"
   ]
  },
  {
   "cell_type": "code",
   "execution_count": 6,
   "metadata": {
    "scrolled": true
   },
   "outputs": [
    {
     "data": {
      "text/plain": [
       "Counter({0: 200,\n",
       "         1: 199,\n",
       "         2: 357,\n",
       "         3: 127,\n",
       "         4: 2692,\n",
       "         5: 226,\n",
       "         6: 725,\n",
       "         7: 5350,\n",
       "         8: 458,\n",
       "         9: 953,\n",
       "         10: 6757,\n",
       "         11: 345,\n",
       "         12: 296,\n",
       "         13: 138,\n",
       "         14: 537,\n",
       "         15: 160,\n",
       "         16: 234,\n",
       "         17: 612,\n",
       "         18: 494,\n",
       "         19: 439,\n",
       "         20: 896,\n",
       "         21: 1813,\n",
       "         22: 213,\n",
       "         23: 110,\n",
       "         24: 125,\n",
       "         25: 1491,\n",
       "         26: 136,\n",
       "         27: 169,\n",
       "         28: 135,\n",
       "         29: 1708,\n",
       "         30: 216,\n",
       "         31: 159,\n",
       "         32: 390,\n",
       "         33: 190,\n",
       "         34: 339,\n",
       "         35: 703,\n",
       "         36: 102,\n",
       "         37: 8779,\n",
       "         38: 454,\n",
       "         39: 1892,\n",
       "         40: 841,\n",
       "         41: 133,\n",
       "         42: 162,\n",
       "         43: 6503,\n",
       "         44: 1071,\n",
       "         45: 330,\n",
       "         46: 3857,\n",
       "         47: 2086,\n",
       "         48: 1248,\n",
       "         49: 229,\n",
       "         50: 147,\n",
       "         51: 2496,\n",
       "         52: 531,\n",
       "         53: 1565,\n",
       "         54: 2785,\n",
       "         55: 120,\n",
       "         56: 1312,\n",
       "         57: 525,\n",
       "         58: 130,\n",
       "         59: 157,\n",
       "         60: 102,\n",
       "         61: 122,\n",
       "         62: 118,\n",
       "         63: 130,\n",
       "         64: 507,\n",
       "         65: 1742,\n",
       "         66: 1901,\n",
       "         67: 107})"
      ]
     },
     "execution_count": 6,
     "metadata": {},
     "output_type": "execute_result"
    }
   ],
   "source": [
    "target['variety'] = target['variety'].astype('category')\n",
    "cat_columns = target.select_dtypes(['category']).columns\n",
    "target[cat_columns] = target[cat_columns].apply(lambda x: x.cat.codes)\n",
    "Counter(target['variety'])"
   ]
  },
  {
   "cell_type": "code",
   "execution_count": 9,
   "metadata": {
    "collapsed": true
   },
   "outputs": [],
   "source": [
    "# DONT COPY ME :-p see abve the classes\n",
    "# use f1scroe or something\n",
    "# what is the error metric used in that kaggle? THEY USED THT ACCURACY MEASURE SIMPLE"
   ]
  },
  {
   "cell_type": "code",
   "execution_count": 11,
   "metadata": {
    "collapsed": true
   },
   "outputs": [],
   "source": [
    "\n",
    "X_train, test_df, y_train, y_test = train_test_split(data,target, stratify=target, test_size=0.2)\n",
    "# split the train data into train and cross validation by maintaining same distribution of output varaible 'y_train' [stratify=y_train]\n",
    "train_df, cv_df, y_train, y_cv = train_test_split(X_train, y_train, stratify=y_train, test_size=0.2)"
   ]
  },
  {
   "cell_type": "code",
   "execution_count": 12,
   "metadata": {},
   "outputs": [
    {
     "name": "stdout",
     "output_type": "stream",
     "text": [
      "(46256, 6)\n",
      "(11564, 6)\n",
      "(14456, 6)\n"
     ]
    }
   ],
   "source": [
    "print(train_df.shape)\n",
    "print(cv_df.shape)\n",
    "print(test_df.shape)"
   ]
  },
  {
   "cell_type": "code",
   "execution_count": 13,
   "metadata": {
    "collapsed": true
   },
   "outputs": [],
   "source": [
    "desc_vectorizer = CountVectorizer()\n",
    "train_description_feature_onehotCoding = desc_vectorizer.fit_transform(train_df['description'])\n",
    "test_description_feature_onehotCoding = desc_vectorizer.transform(test_df['description'])\n",
    "cv_description_feature_onehotCoding = desc_vectorizer.transform(cv_df['description'])"
   ]
  },
  {
   "cell_type": "code",
   "execution_count": 83,
   "metadata": {},
   "outputs": [
    {
     "data": {
      "text/plain": [
       "(46256, 29642)"
      ]
     },
     "execution_count": 83,
     "metadata": {},
     "output_type": "execute_result"
    }
   ],
   "source": [
    "train_description_feature_onehotCoding.shape"
   ]
  },
  {
   "cell_type": "code",
   "execution_count": 84,
   "metadata": {
    "collapsed": true
   },
   "outputs": [],
   "source": [
    "count_vect = CountVectorizer(ngram_range=(1,2) ) #in scikit-learn\n",
    "train_description_feature_ngrams = desc_vectorizer.fit_transform(train_df['description'])\n",
    "test_description_feature_ngrams = desc_vectorizer.transform(test_df['description'])\n",
    "cv_description_feature_ngrams = desc_vectorizer.transform(cv_df['description'])"
   ]
  },
  {
   "cell_type": "code",
   "execution_count": 85,
   "metadata": {
    "collapsed": true
   },
   "outputs": [],
   "source": [
    "tfidf_description_vectorizer = TfidfVectorizer(min_df = 0)\n",
    "train_description_feature_tfidf = tfidf_description_vectorizer.fit_transform(train_df['description'])\n",
    "test_description_feature_tfidf = tfidf_description_vectorizer.transform(test_df['description'])\n",
    "cv_description_feature_tfidf = tfidf_description_vectorizer.transform(cv_df['description'])"
   ]
  },
  {
   "cell_type": "code",
   "execution_count": 86,
   "metadata": {},
   "outputs": [
    {
     "data": {
      "text/plain": [
       "(46256, 29642)"
      ]
     },
     "execution_count": 86,
     "metadata": {},
     "output_type": "execute_result"
    }
   ],
   "source": [
    "train_description_feature_tfidf.shape"
   ]
  },
  {
   "cell_type": "code",
   "execution_count": null,
   "metadata": {
    "collapsed": true
   },
   "outputs": [],
   "source": [
    "#i USED that calibrated clasifer in each algo>>>i hve to chnge tht all and rerun>>?\n",
    "# check with one model and then see ..ohk\n",
    "# till it cmplete tell mee......u saw tht profile..?"
   ]
  },
  {
   "cell_type": "code",
   "execution_count": 15,
   "metadata": {},
   "outputs": [
    {
     "name": "stdout",
     "output_type": "stream",
     "text": [
      "For values of alpha =  1e-05 The accuracy  is: 0.578951919751\n",
      "For values of alpha =  0.0001 The accuracy  is: 0.628675198893\n",
      "For values of alpha =  0.001 The accuracy  is: 0.572985126254\n",
      "For values of alpha =  0.01 The accuracy  is: 0.437218955379\n",
      "For values of alpha =  0.1 The accuracy  is: 0.328260117606\n",
      "For values of alpha =  1 The accuracy  is: 0.273607748184\n"
     ]
    },
    {
     "data": {
      "image/png": "[encoded data removed]",
      "text/plain": [
       "<matplotlib.figure.Figure at 0xc9183314e0>"
      ]
     },
     "metadata": {},
     "output_type": "display_data"
    },
    {
     "name": "stdout",
     "output_type": "stream",
     "text": [
      "For values of best alpha =  0.0001 The train accuracy is: 0.795204946385\n",
      "For values of best alpha =  0.0001 The cross validation accuracy is: 0.628675198893\n",
      "For values of best alpha =  0.0001 The test accuracy is: 0.626591034864\n"
     ]
    }
   ],
   "source": [
    "alpha = [10 ** x for x in range(-5, 1)]\n",
    "cv_accuracy_array=[]\n",
    "for i in alpha:\n",
    "    clf = SGDClassifier(alpha=i, penalty='l2', loss='log', random_state=42)\n",
    "    clf.fit(train_description_feature_onehotCoding, y_train)\n",
    "    \n",
    "    \n",
    "    predict_y = clf.predict(cv_description_feature_onehotCoding)\n",
    "    \n",
    "    cv_accuracy_array.append(accuracy_score(y_cv, predict_y))\n",
    "    print('For values of alpha = ', i, \"The accuracy  is:\",accuracy_score(y_cv, predict_y))\n",
    "\n",
    "fig, ax = plt.subplots()\n",
    "ax.plot(alpha, cv_accuracy_array,c='g')\n",
    "for i, txt in enumerate(np.round(cv_accuracy_array,3)):\n",
    "    ax.annotate((alpha[i],np.round(txt,3)), (alpha[i],cv_accuracy_array[i]))\n",
    "plt.grid()\n",
    "plt.title(\"Cross Validation accuracy for each alpha\")\n",
    "plt.xlabel(\"Alpha i's\")\n",
    "plt.ylabel(\"Accuracy measure\")\n",
    "plt.show()\n",
    "\n",
    "\n",
    "best_alpha = np.argmax(cv_accuracy_array)\n",
    "clf = SGDClassifier(alpha=alpha[best_alpha], penalty='l2', loss='log', random_state=42)\n",
    "clf.fit(train_description_feature_onehotCoding, y_train)\n",
    "\n",
    "\n",
    "predict_y = clf.predict(train_description_feature_onehotCoding)\n",
    "print('For values of best alpha = ', alpha[best_alpha], \"The train accuracy is:\",accuracy_score(y_train, predict_y))\n",
    "predict_y = clf.predict(cv_description_feature_onehotCoding)\n",
    "print('For values of best alpha = ', alpha[best_alpha], \"The cross validation accuracy is:\",accuracy_score(y_cv, predict_y))\n",
    "predict_y = clf.predict(test_description_feature_onehotCoding)\n",
    "print('For values of best alpha = ', alpha[best_alpha], \"The test accuracy is:\",accuracy_score(y_test, predict_y))\n",
    "# same as prev"
   ]
  },
  {
   "cell_type": "code",
   "execution_count": 16,
   "metadata": {},
   "outputs": [
    {
     "name": "stdout",
     "output_type": "stream",
     "text": [
      "For values of alpha =  1e-05 The accuracy  is: 0.568834313386\n",
      "For values of alpha =  0.0001 The accuracy  is: 0.606191629194\n",
      "For values of alpha =  0.001 The accuracy  is: 0.623573158077\n",
      "For values of alpha =  0.01 The accuracy  is: 0.529401591145\n",
      "For values of alpha =  0.1 The accuracy  is: 0.402282947077\n",
      "For values of alpha =  1 The accuracy  is: 0.325492909028\n"
     ]
    },
    {
     "data": {
      "image/png": "[encoded data removed]",
      "text/plain": [
       "<matplotlib.figure.Figure at 0xc918349908>"
      ]
     },
     "metadata": {},
     "output_type": "display_data"
    },
    {
     "name": "stdout",
     "output_type": "stream",
     "text": [
      "For values of best alpha =  0.001 The train accuracy is: 0.728640608786\n",
      "For values of best alpha =  0.001 The cross validation accuracy is: 0.623573158077\n",
      "For values of best alpha =  0.001 The test accuracy is: 0.619050913116\n"
     ]
    }
   ],
   "source": [
    "alpha = [10 ** x for x in range(-5, 1)]\n",
    "cv_accuracy_array=[]\n",
    "for i in alpha:\n",
    "    clf = SGDClassifier(alpha=i, penalty='l2', loss='hinge', random_state=42)\n",
    "    clf.fit(train_description_feature_onehotCoding, y_train)\n",
    "    \n",
    "    \n",
    "    predict_y = clf.predict(cv_description_feature_onehotCoding)\n",
    "    \n",
    "    cv_accuracy_array.append(accuracy_score(y_cv, predict_y))\n",
    "    print('For values of alpha = ', i, \"The accuracy  is:\",accuracy_score(y_cv, predict_y))\n",
    "\n",
    "fig, ax = plt.subplots()\n",
    "ax.plot(alpha, cv_accuracy_array,c='g')\n",
    "for i, txt in enumerate(np.round(cv_accuracy_array,3)):\n",
    "    ax.annotate((alpha[i],np.round(txt,3)), (alpha[i],cv_accuracy_array[i]))\n",
    "plt.grid()\n",
    "plt.title(\"Cross Validation accuracy for each alpha\")\n",
    "plt.xlabel(\"Alpha i's\")\n",
    "plt.ylabel(\"Accuracy measure\")\n",
    "plt.show()\n",
    "\n",
    "\n",
    "best_alpha = np.argmax(cv_accuracy_array)\n",
    "clf = SGDClassifier(alpha=alpha[best_alpha], penalty='l2', loss='hinge', random_state=42)\n",
    "clf.fit(train_description_feature_onehotCoding, y_train)\n",
    "\n",
    "\n",
    "predict_y = clf.predict(train_description_feature_onehotCoding)\n",
    "print('For values of best alpha = ', alpha[best_alpha], \"The train accuracy is:\",accuracy_score(y_train, predict_y))\n",
    "predict_y = clf.predict(cv_description_feature_onehotCoding)\n",
    "print('For values of best alpha = ', alpha[best_alpha], \"The cross validation accuracy is:\",accuracy_score(y_cv, predict_y))\n",
    "predict_y = clf.predict(test_description_feature_onehotCoding)\n",
    "print('For values of best alpha = ', alpha[best_alpha], \"The test accuracy is:\",accuracy_score(y_test, predict_y))"
   ]
  },
  {
   "cell_type": "code",
   "execution_count": 68,
   "metadata": {
    "collapsed": true
   },
   "outputs": [
    {
     "name": "stdout",
     "output_type": "stream",
     "text": [
      "For values of alpha =  1e-05 The accuracy loss is: 0.610601867866\n",
      "For values of alpha =  0.0001 The accuracy loss is: 0.634469041854\n",
      "For values of alpha =  0.001 The accuracy loss is: 0.6270321688\n",
      "For values of alpha =  0.01 The accuracy loss is: 0.504842615012\n",
      "For values of alpha =  0.1 The accuracy loss is: 0.324801106883\n",
      "For values of alpha =  1 The accuracy loss is: 0.151937046005\n"
     ]
    },
    {
     "data": {
      "image/png": "[encoded data removed]",
      "text/plain": [
       "<matplotlib.figure.Figure at 0xfc801de080>"
      ]
     },
     "metadata": {},
     "output_type": "display_data"
    },
    {
     "name": "stdout",
     "output_type": "stream",
     "text": [
      "For values of best alpha =  0.0001 The train accuracy is: 0.839393808371\n",
      "For values of best alpha =  0.0001 The cross validation accuracy is: 0.634469041854\n",
      "For values of best alpha =  0.0001 The test accuracy is: 0.621057000553\n"
     ]
    }
   ],
   "source": [
    "alpha = [10 ** x for x in range(-5, 1)]\n",
    "cv_accuracy_array=[]\n",
    "for i in alpha:\n",
    "    clf = SGDClassifier(alpha=i, penalty='l2', loss='hinge', random_state=42)\n",
    "    clf.fit(train_description_feature_onehotCoding, y_train)\n",
    "    \n",
    "    sig_clf = CalibratedClassifierCV(clf, method=\"sigmoid\")\n",
    "    sig_clf.fit(train_description_feature_onehotCoding, y_train)\n",
    "    predict_y = sig_clf.predict(cv_description_feature_onehotCoding)\n",
    "    \n",
    "    cv_accuracy_array.append(accuracy_score(y_cv, predict_y))\n",
    "    print('For values of alpha = ', i, \"The accuracy loss is:\",accuracy_score(y_cv, predict_y))\n",
    "\n",
    "fig, ax = plt.subplots()\n",
    "ax.plot(alpha, cv_accuracy_array,c='g')\n",
    "for i, txt in enumerate(np.round(cv_accuracy_array,3)):\n",
    "    ax.annotate((alpha[i],np.round(txt,3)), (alpha[i],cv_accuracy_array[i]))\n",
    "plt.grid()\n",
    "plt.title(\"Cross Validation Error for each alpha\")\n",
    "plt.xlabel(\"Alpha i's\")\n",
    "plt.ylabel(\"Error measure\")\n",
    "plt.show()\n",
    "\n",
    "\n",
    "best_alpha = np.argmax(cv_accuracy_array)\n",
    "clf = SGDClassifier(alpha=alpha[best_alpha], penalty='l2', loss='hinge', random_state=42)\n",
    "clf.fit(train_description_feature_onehotCoding, y_train)\n",
    "sig_clf = CalibratedClassifierCV(clf, method=\"sigmoid\")\n",
    "sig_clf.fit(train_description_feature_onehotCoding, y_train)\n",
    "\n",
    "predict_y = sig_clf.predict(train_description_feature_onehotCoding)\n",
    "print('For values of best alpha = ', alpha[best_alpha], \"The train accuracy is:\",accuracy_score(y_train, predict_y))\n",
    "predict_y = sig_clf.predict(cv_description_feature_onehotCoding)\n",
    "print('For values of best alpha = ', alpha[best_alpha], \"The cross validation accuracy is:\",accuracy_score(y_cv, predict_y))\n",
    "predict_y = sig_clf.predict(test_description_feature_onehotCoding)\n",
    "print('For values of best alpha = ', alpha[best_alpha], \"The test accuracy is:\",accuracy_score(y_test, predict_y))"
   ]
  },
  {
   "cell_type": "code",
   "execution_count": 69,
   "metadata": {
    "collapsed": true
   },
   "outputs": [
    {
     "name": "stdout",
     "output_type": "stream",
     "text": [
      "For values of alpha =  1e-05 The accuracy loss is: 0.648478035282\n",
      "For values of alpha =  0.0001 The accuracy loss is: 0.640349360083\n",
      "For values of alpha =  0.001 The accuracy loss is: 0.62789692148\n",
      "For values of alpha =  0.01 The accuracy loss is: 0.615703908682\n",
      "For values of alpha =  0.1 The accuracy loss is: 0.194742303701\n",
      "For values of alpha =  1 The accuracy loss is: 0.183414043584\n"
     ]
    },
    {
     "data": {
      "image/png": "[encoded data removed]",
      "text/plain": [
       "<matplotlib.figure.Figure at 0xfce14130b8>"
      ]
     },
     "metadata": {},
     "output_type": "display_data"
    },
    {
     "name": "stdout",
     "output_type": "stream",
     "text": [
      "For values of best alpha =  1e-05 The train accuracy is: 0.906282428226\n",
      "For values of best alpha =  1e-05 The cross validation accuracy is: 0.648478035282\n",
      "For values of best alpha =  1e-05 The test accuracy is: 0.636275594909\n"
     ]
    }
   ],
   "source": [
    "alpha = [10 ** x for x in range(-5, 1)]\n",
    "cv_accuracy_array=[]\n",
    "for i in alpha:\n",
    "    clf = SGDClassifier(alpha=i, penalty='l2', loss='hinge', random_state=42)\n",
    "    clf.fit(train_description_feature_tfidf, y_train)\n",
    "    \n",
    "    sig_clf = CalibratedClassifierCV(clf, method=\"sigmoid\")\n",
    "    sig_clf.fit(train_description_feature_tfidf, y_train)\n",
    "    predict_y = sig_clf.predict(cv_description_feature_tfidf)\n",
    "    \n",
    "    cv_accuracy_array.append(accuracy_score(y_cv, predict_y))\n",
    "    print('For values of alpha = ', i, \"The accuracy loss is:\",accuracy_score(y_cv, predict_y))\n",
    "\n",
    "fig, ax = plt.subplots()\n",
    "ax.plot(alpha, cv_accuracy_array,c='g')\n",
    "for i, txt in enumerate(np.round(cv_accuracy_array,3)):\n",
    "    ax.annotate((alpha[i],np.round(txt,3)), (alpha[i],cv_accuracy_array[i]))\n",
    "plt.grid()\n",
    "plt.title(\"Cross Validation Error for each alpha\")\n",
    "plt.xlabel(\"Alpha i's\")\n",
    "plt.ylabel(\"Error measure\")\n",
    "plt.show()\n",
    "\n",
    "\n",
    "best_alpha = np.argmax(cv_accuracy_array)\n",
    "clf = SGDClassifier(alpha=alpha[best_alpha], penalty='l2', loss='hinge', random_state=42)\n",
    "clf.fit(train_description_feature_tfidf, y_train)\n",
    "sig_clf = CalibratedClassifierCV(clf, method=\"sigmoid\")\n",
    "sig_clf.fit(train_description_feature_tfidf, y_train)\n",
    "\n",
    "predict_y = sig_clf.predict(train_description_feature_tfidf)\n",
    "print('For values of best alpha = ', alpha[best_alpha], \"The train accuracy is:\",accuracy_score(y_train, predict_y))\n",
    "predict_y = sig_clf.predict(cv_description_feature_tfidf)\n",
    "print('For values of best alpha = ', alpha[best_alpha], \"The cross validation accuracy is:\",accuracy_score(y_cv, predict_y))\n",
    "predict_y = sig_clf.predict(test_description_feature_tfidf)\n",
    "print('For values of best alpha = ', alpha[best_alpha], \"The test accuracy is:\",accuracy_score(y_test, predict_y))\n"
   ]
  },
  {
   "cell_type": "code",
   "execution_count": 65,
   "metadata": {
    "collapsed": true
   },
   "outputs": [
    {
     "name": "stdout",
     "output_type": "stream",
     "text": [
      "for alpha = 1e-05\n",
      "accuracy : 0.495157384988\n",
      "for alpha = 0.0001\n",
      "accuracy : 0.511155309581\n",
      "for alpha = 0.001\n",
      "accuracy : 0.526288481494\n",
      "for alpha = 0.1\n",
      "accuracy : 0.551106883431\n",
      "for alpha = 1\n",
      "accuracy : 0.472327914217\n",
      "for alpha = 10\n",
      "accuracy : 0.350397786233\n",
      "for alpha = 100\n",
      "accuracy : 0.335696990661\n",
      "for alpha = 1000\n",
      "accuracy : 0.342182635766\n"
     ]
    },
    {
     "data": {
      "image/png": "[encoded data removed]",
      "text/plain": [
       "<matplotlib.figure.Figure at 0xfc80213dd8>"
      ]
     },
     "metadata": {},
     "output_type": "display_data"
    },
    {
     "name": "stdout",
     "output_type": "stream",
     "text": [
      "For values of best alpha =  0.1 The train accuracy is: 0.761760636458\n",
      "For values of best alpha =  0.1 The cross validation accuracy is: 0.551106883431\n",
      "For values of best alpha =  0.1 The test accuracy is: 0.547315993359\n"
     ]
    }
   ],
   "source": [
    "from sklearn.naive_bayes import MultinomialNB\n",
    "alpha = [0.00001, 0.0001, 0.001, 0.1, 1, 10, 100,1000]\n",
    "cv_accuracy_array = []\n",
    "for i in alpha:\n",
    "    print(\"for alpha =\", i)\n",
    "    clf = MultinomialNB(alpha=i)\n",
    "    clf.fit(train_description_feature_onehotCoding,y_train)\n",
    "    sig_clf = CalibratedClassifierCV(clf, method=\"sigmoid\")\n",
    "    sig_clf.fit(train_description_feature_onehotCoding,y_train)\n",
    "    sig_clf_probs = sig_clf.predict(cv_description_feature_onehotCoding)\n",
    "    cv_accuracy_array.append(accuracy_score(y_cv, sig_clf_probs))\n",
    "    # to avoid rounding error while multiplying probabilites we use log-probability estimates\n",
    "    print(\"accuracy :\",accuracy_score(y_cv, sig_clf_probs)) \n",
    "\n",
    "fig, ax = plt.subplots()\n",
    "ax.plot(np.log10(alpha), cv_accuracy_array,c='g')\n",
    "for i, txt in enumerate(np.round(cv_accuracy_array,3)):\n",
    "    ax.annotate((alpha[i],str(txt)), (np.log10(alpha[i]),cv_accuracy_array[i]))\n",
    "plt.grid()\n",
    "plt.xticks(np.log10(alpha))\n",
    "plt.title(\"Cross Validation Error for each alpha\")\n",
    "plt.xlabel(\"Alpha i's\")\n",
    "plt.ylabel(\"Error measure\")\n",
    "plt.show()\n",
    "\n",
    "\n",
    "best_alpha = np.argmax(cv_accuracy_array)\n",
    "clf = MultinomialNB(alpha=alpha[best_alpha])\n",
    "clf.fit(train_description_feature_onehotCoding, y_train)\n",
    "sig_clf = CalibratedClassifierCV(clf, method=\"sigmoid\")\n",
    "sig_clf.fit(train_description_feature_onehotCoding, y_train)\n",
    "\n",
    "\n",
    "predict_y = sig_clf.predict(train_description_feature_onehotCoding)\n",
    "print('For values of best alpha = ', alpha[best_alpha], \"The train accuracy is:\",accuracy_score(y_train, predict_y))\n",
    "predict_y = sig_clf.predict(cv_description_feature_onehotCoding)\n",
    "print('For values of best alpha = ', alpha[best_alpha], \"The cross validation accuracy is:\",accuracy_score(y_cv, predict_y))\n",
    "predict_y = sig_clf.predict(test_description_feature_onehotCoding)\n",
    "print('For values of best alpha = ', alpha[best_alpha], \"The test accuracy is:\",accuracy_score(y_test, predict_y))\n"
   ]
  },
  {
   "cell_type": "code",
   "execution_count": 67,
   "metadata": {
    "collapsed": true
   },
   "outputs": [
    {
     "name": "stdout",
     "output_type": "stream",
     "text": [
      "for alpha = 1e-05\n",
      "accuracy : 0.464718090626\n",
      "for alpha = 0.0001\n",
      "accuracy : 0.482186094777\n",
      "for alpha = 0.001\n",
      "accuracy : 0.50492909028\n",
      "for alpha = 0.1\n",
      "accuracy : 0.524818401937\n",
      "for alpha = 1\n",
      "accuracy : 0.478986509858\n",
      "for alpha = 10\n",
      "accuracy : 0.465150466966\n",
      "for alpha = 100\n",
      "accuracy : 0.455465236942\n",
      "for alpha = 1000\n",
      "accuracy : 0.455897613283\n"
     ]
    },
    {
     "data": {
      "image/png": "[encoded data removed]",
      "text/plain": [
       "<matplotlib.figure.Figure at 0xfcdc7a00f0>"
      ]
     },
     "metadata": {},
     "output_type": "display_data"
    },
    {
     "name": "stdout",
     "output_type": "stream",
     "text": [
      "For values of best alpha =  0.1 The train accuracy is: 0.730283638879\n",
      "For values of best alpha =  0.1 The cross validation accuracy is: 0.524818401937\n",
      "For values of best alpha =  0.1 The test accuracy is: 0.519853348091\n"
     ]
    }
   ],
   "source": [
    "from sklearn.naive_bayes import MultinomialNB\n",
    "alpha = [0.00001, 0.0001, 0.001, 0.1, 1, 10, 100,1000]\n",
    "cv_accuracy_array = []\n",
    "for i in alpha:\n",
    "    print(\"for alpha =\", i)\n",
    "    clf = MultinomialNB(alpha=i)\n",
    "    clf.fit(train_description_feature_tfidf,y_train)\n",
    "    sig_clf = CalibratedClassifierCV(clf, method=\"sigmoid\")\n",
    "    sig_clf.fit(train_description_feature_tfidf,y_train)\n",
    "    sig_clf_probs = sig_clf.predict(cv_description_feature_tfidf)\n",
    "    cv_accuracy_array.append(accuracy_score(y_cv, sig_clf_probs))\n",
    "    # to avoid rounding error while multiplying probabilites we use log-probability estimates\n",
    "    print(\"accuracy :\",accuracy_score(y_cv, sig_clf_probs)) \n",
    "\n",
    "fig, ax = plt.subplots()\n",
    "ax.plot(np.log10(alpha), cv_accuracy_array,c='g')\n",
    "for i, txt in enumerate(np.round(cv_accuracy_array,3)):\n",
    "    ax.annotate((alpha[i],str(txt)), (np.log10(alpha[i]),cv_accuracy_array[i]))\n",
    "plt.grid()\n",
    "plt.xticks(np.log10(alpha))\n",
    "plt.title(\"Cross Validation Error for each alpha\")\n",
    "plt.xlabel(\"Alpha i's\")\n",
    "plt.ylabel(\"Error measure\")\n",
    "plt.show()\n",
    "\n",
    "\n",
    "best_alpha = np.argmax(cv_accuracy_array)\n",
    "clf = MultinomialNB(alpha=alpha[best_alpha])\n",
    "clf.fit(train_description_feature_tfidf, y_train)\n",
    "sig_clf = CalibratedClassifierCV(clf, method=\"sigmoid\")\n",
    "sig_clf.fit(train_description_feature_tfidf, y_train)\n",
    "\n",
    "\n",
    "predict_y = sig_clf.predict(train_description_feature_tfidf)\n",
    "print('For values of best alpha = ', alpha[best_alpha], \"The train accuracy is:\",accuracy_score(y_train, predict_y))\n",
    "predict_y = sig_clf.predict(cv_description_feature_tfidf)\n",
    "print('For values of best alpha = ', alpha[best_alpha], \"The cross validation accuracy is:\",accuracy_score(y_cv, predict_y))\n",
    "predict_y = sig_clf.predict(test_description_feature_tfidf)\n",
    "print('For values of best alpha = ', alpha[best_alpha], \"The test accuracy is:\",accuracy_score(y_test, predict_y))\n"
   ]
  },
  {
   "cell_type": "code",
   "execution_count": 7,
   "metadata": {
    "collapsed": true
   },
   "outputs": [],
   "source": [
    "from gensim.models import Word2Vec\n",
    "from gensim.models import KeyedVectors\n",
    "import pickle\n",
    "with open('word2vec_model', 'rb') as handle:\n",
    "    model = pickle.load(handle)"
   ]
  },
  {
   "cell_type": "code",
   "execution_count": 17,
   "metadata": {
    "collapsed": true
   },
   "outputs": [],
   "source": [
    "from sklearn.feature_extraction.text import TfidfVectorizer\n",
    "\n",
    "# merge texts\n",
    "descriptions = list(data['description'])\n",
    "\n",
    "tfidf = TfidfVectorizer(lowercase=False, )\n",
    "tfidf_desc_features = tfidf.fit_transform(descriptions)\n",
    "\n",
    "tfidf_desc_features  = tfidf_desc_features.astype(np.float)"
   ]
  },
  {
   "cell_type": "code",
   "execution_count": 18,
   "metadata": {
    "collapsed": true
   },
   "outputs": [],
   "source": [
    "def get_word_vec(sentence, doc_id, m_name):\n",
    "    # sentence : description of the wine\n",
    "    # doc_id: document id in our corpus\n",
    "    # m_name: model information it will take two values\n",
    "        # if  m_name == 'avg', we will append the model[i], w2v representation of word i\n",
    "        # if m_name == 'weighted', we will multiply each w2v[word] with the tfidf(word)\n",
    "    vec = []\n",
    "    for i in sentence.split():\n",
    "        if i in vocab:\n",
    "            if m_name == 'weighted' and i in  tfidf.vocabulary_:\n",
    "                \n",
    "                vec.append(tfidf_desc_features[doc_id, tfidf.vocabulary_[i]] * model[i])\n",
    "            elif m_name == 'avg':\n",
    "                vec.append(model[i])\n",
    "        else:\n",
    "            # if the word in our courpus is not there in the google word2vec corpus, we are just ignoring it\n",
    "            vec.append(np.zeros(shape=(300,)))\n",
    "    # we will return a numpy array of shape (#number of words in title * 300 ) 300 = len(w2v_model[word])\n",
    "    # each row represents the word2vec representation of each word (weighted/avg) in given sentance \n",
    "    \n",
    "    vec = np.array(vec)\n",
    "    vec = vec.mean(axis=0)\n",
    "    return  vec"
   ]
  },
  {
   "cell_type": "code",
   "execution_count": 19,
   "metadata": {
    "collapsed": true
   },
   "outputs": [],
   "source": [
    "vocab = model.keys()\n",
    "doc_id = 0\n",
    "w2v_description = []\n",
    "tfidf_w2v_descr =[]\n",
    "# for every description we build a avg vector representation\n",
    "for i in data['description']:\n",
    "    tfidf_w2v_descr.append(get_word_vec(i,doc_id,'weighted'))\n",
    "    doc_id += 1\n",
    "    \n",
    "\n",
    "\n"
   ]
  },
  {
   "cell_type": "code",
   "execution_count": 20,
   "metadata": {
    "collapsed": true
   },
   "outputs": [],
   "source": [
    "data['tfidf_wrd2vec'] = tfidf_w2v_descr"
   ]
  },
  {
   "cell_type": "code",
   "execution_count": 56,
   "metadata": {
    "collapsed": true
   },
   "outputs": [],
   "source": [
    "data['wrd2vec'] = w2v_description"
   ]
  },
  {
   "cell_type": "code",
   "execution_count": 21,
   "metadata": {},
   "outputs": [
    {
     "data": {
      "text/html": [
       "<div>\n",
       "<style>\n",
       "    .dataframe thead tr:only-child th {\n",
       "        text-align: right;\n",
       "    }\n",
       "\n",
       "    .dataframe thead th {\n",
       "        text-align: left;\n",
       "    }\n",
       "\n",
       "    .dataframe tbody tr th {\n",
       "        vertical-align: top;\n",
       "    }\n",
       "</style>\n",
       "<table border=\"1\" class=\"dataframe\">\n",
       "  <thead>\n",
       "    <tr style=\"text-align: right;\">\n",
       "      <th></th>\n",
       "      <th>description</th>\n",
       "      <th>designation</th>\n",
       "      <th>country</th>\n",
       "      <th>title</th>\n",
       "      <th>price</th>\n",
       "      <th>winery</th>\n",
       "      <th>tfidf_wrd2vec</th>\n",
       "    </tr>\n",
       "  </thead>\n",
       "  <tbody>\n",
       "    <tr>\n",
       "      <th>1</th>\n",
       "      <td>ripe fruity wine smooth still structured firm ...</td>\n",
       "      <td>Avidagos</td>\n",
       "      <td>Portugal</td>\n",
       "      <td>Quinta dos Avidagos 2011 Avidagos Red (Douro)</td>\n",
       "      <td>15.0</td>\n",
       "      <td>Quinta dos Avidagos</td>\n",
       "      <td>[-0.00134130174272, 0.00296340878343, -0.00443...</td>\n",
       "    </tr>\n",
       "    <tr>\n",
       "      <th>3</th>\n",
       "      <td>pineapple rind lemon pith orange blossom start...</td>\n",
       "      <td>Reserve Late Harvest</td>\n",
       "      <td>US</td>\n",
       "      <td>St. Julian 2013 Reserve Late Harvest Riesling ...</td>\n",
       "      <td>13.0</td>\n",
       "      <td>St. Julian</td>\n",
       "      <td>[-0.00479942118926, 0.011564758961, -0.0003151...</td>\n",
       "    </tr>\n",
       "    <tr>\n",
       "      <th>4</th>\n",
       "      <td>much like regular bottling 2012 comes across r...</td>\n",
       "      <td>Vintner's Reserve Wild Child Block</td>\n",
       "      <td>US</td>\n",
       "      <td>Sweet Cheeks 2012 Vintner's Reserve Wild Child...</td>\n",
       "      <td>65.0</td>\n",
       "      <td>Sweet Cheeks</td>\n",
       "      <td>[0.00522688169731, 0.0101461132802, -0.0048266...</td>\n",
       "    </tr>\n",
       "    <tr>\n",
       "      <th>8</th>\n",
       "      <td>savory dried thyme notes accent sunnier flavor...</td>\n",
       "      <td>Shine</td>\n",
       "      <td>Germany</td>\n",
       "      <td>Heinz Eifel 2013 Shine Gewürztraminer (Rheinhe...</td>\n",
       "      <td>12.0</td>\n",
       "      <td>Heinz Eifel</td>\n",
       "      <td>[-0.00736149026574, 0.011621412982, -0.0071603...</td>\n",
       "    </tr>\n",
       "    <tr>\n",
       "      <th>9</th>\n",
       "      <td>great depth flavor fresh apple pear fruits tou...</td>\n",
       "      <td>Les Natures</td>\n",
       "      <td>France</td>\n",
       "      <td>Jean-Baptiste Adam 2012 Les Natures Pinot Gris...</td>\n",
       "      <td>27.0</td>\n",
       "      <td>Jean-Baptiste Adam</td>\n",
       "      <td>[-0.000223348926132, 0.0223974450491, 0.000233...</td>\n",
       "    </tr>\n",
       "  </tbody>\n",
       "</table>\n",
       "</div>"
      ],
      "text/plain": [
       "                                         description  \\\n",
       "1  ripe fruity wine smooth still structured firm ...   \n",
       "3  pineapple rind lemon pith orange blossom start...   \n",
       "4  much like regular bottling 2012 comes across r...   \n",
       "8  savory dried thyme notes accent sunnier flavor...   \n",
       "9  great depth flavor fresh apple pear fruits tou...   \n",
       "\n",
       "                          designation   country  \\\n",
       "1                            Avidagos  Portugal   \n",
       "3                Reserve Late Harvest        US   \n",
       "4  Vintner's Reserve Wild Child Block        US   \n",
       "8                               Shine   Germany   \n",
       "9                         Les Natures    France   \n",
       "\n",
       "                                               title  price  \\\n",
       "1      Quinta dos Avidagos 2011 Avidagos Red (Douro)   15.0   \n",
       "3  St. Julian 2013 Reserve Late Harvest Riesling ...   13.0   \n",
       "4  Sweet Cheeks 2012 Vintner's Reserve Wild Child...   65.0   \n",
       "8  Heinz Eifel 2013 Shine Gewürztraminer (Rheinhe...   12.0   \n",
       "9  Jean-Baptiste Adam 2012 Les Natures Pinot Gris...   27.0   \n",
       "\n",
       "                winery                                      tfidf_wrd2vec  \n",
       "1  Quinta dos Avidagos  [-0.00134130174272, 0.00296340878343, -0.00443...  \n",
       "3           St. Julian  [-0.00479942118926, 0.011564758961, -0.0003151...  \n",
       "4         Sweet Cheeks  [0.00522688169731, 0.0101461132802, -0.0048266...  \n",
       "8          Heinz Eifel  [-0.00736149026574, 0.011621412982, -0.0071603...  \n",
       "9   Jean-Baptiste Adam  [-0.000223348926132, 0.0223974450491, 0.000233...  "
      ]
     },
     "execution_count": 21,
     "metadata": {},
     "output_type": "execute_result"
    }
   ],
   "source": [
    "data.head()"
   ]
  },
  {
   "cell_type": "code",
   "execution_count": 63,
   "metadata": {
    "collapsed": true
   },
   "outputs": [],
   "source": [
    "df = data.drop(['designation','country','title','price','winery','description'],axis=1)\n",
    "df = pd.DataFrame(data['wrd2vec'].values.tolist(), index= df.index)\n"
   ]
  },
  {
   "cell_type": "code",
   "execution_count": 64,
   "metadata": {
    "scrolled": true
   },
   "outputs": [
    {
     "data": {
      "text/html": [
       "<div>\n",
       "<style>\n",
       "    .dataframe thead tr:only-child th {\n",
       "        text-align: right;\n",
       "    }\n",
       "\n",
       "    .dataframe thead th {\n",
       "        text-align: left;\n",
       "    }\n",
       "\n",
       "    .dataframe tbody tr th {\n",
       "        vertical-align: top;\n",
       "    }\n",
       "</style>\n",
       "<table border=\"1\" class=\"dataframe\">\n",
       "  <thead>\n",
       "    <tr style=\"text-align: right;\">\n",
       "      <th></th>\n",
       "      <th>0</th>\n",
       "      <th>1</th>\n",
       "      <th>2</th>\n",
       "      <th>3</th>\n",
       "      <th>4</th>\n",
       "      <th>5</th>\n",
       "      <th>6</th>\n",
       "      <th>7</th>\n",
       "      <th>8</th>\n",
       "      <th>9</th>\n",
       "      <th>...</th>\n",
       "      <th>290</th>\n",
       "      <th>291</th>\n",
       "      <th>292</th>\n",
       "      <th>293</th>\n",
       "      <th>294</th>\n",
       "      <th>295</th>\n",
       "      <th>296</th>\n",
       "      <th>297</th>\n",
       "      <th>298</th>\n",
       "      <th>299</th>\n",
       "    </tr>\n",
       "  </thead>\n",
       "  <tbody>\n",
       "    <tr>\n",
       "      <th>1</th>\n",
       "      <td>-0.009414</td>\n",
       "      <td>0.017585</td>\n",
       "      <td>-0.030814</td>\n",
       "      <td>0.042966</td>\n",
       "      <td>-0.034119</td>\n",
       "      <td>-0.014154</td>\n",
       "      <td>0.047176</td>\n",
       "      <td>-0.063593</td>\n",
       "      <td>0.027751</td>\n",
       "      <td>0.074998</td>\n",
       "      <td>...</td>\n",
       "      <td>-0.024368</td>\n",
       "      <td>-0.046669</td>\n",
       "      <td>0.014262</td>\n",
       "      <td>-0.034217</td>\n",
       "      <td>0.021626</td>\n",
       "      <td>0.006191</td>\n",
       "      <td>0.032924</td>\n",
       "      <td>-0.027418</td>\n",
       "      <td>0.014082</td>\n",
       "      <td>0.027547</td>\n",
       "    </tr>\n",
       "    <tr>\n",
       "      <th>3</th>\n",
       "      <td>-0.019996</td>\n",
       "      <td>0.053089</td>\n",
       "      <td>-0.006533</td>\n",
       "      <td>0.077504</td>\n",
       "      <td>-0.011608</td>\n",
       "      <td>-0.015919</td>\n",
       "      <td>0.074071</td>\n",
       "      <td>-0.122085</td>\n",
       "      <td>0.006487</td>\n",
       "      <td>0.110128</td>\n",
       "      <td>...</td>\n",
       "      <td>-0.061136</td>\n",
       "      <td>-0.036749</td>\n",
       "      <td>-0.041989</td>\n",
       "      <td>-0.089181</td>\n",
       "      <td>0.047131</td>\n",
       "      <td>0.024642</td>\n",
       "      <td>0.002274</td>\n",
       "      <td>0.005979</td>\n",
       "      <td>0.033622</td>\n",
       "      <td>0.065197</td>\n",
       "    </tr>\n",
       "    <tr>\n",
       "      <th>4</th>\n",
       "      <td>0.033173</td>\n",
       "      <td>0.042900</td>\n",
       "      <td>-0.023666</td>\n",
       "      <td>0.091482</td>\n",
       "      <td>-0.005512</td>\n",
       "      <td>0.044506</td>\n",
       "      <td>0.045542</td>\n",
       "      <td>-0.081106</td>\n",
       "      <td>0.000179</td>\n",
       "      <td>0.109685</td>\n",
       "      <td>...</td>\n",
       "      <td>-0.060822</td>\n",
       "      <td>-0.002810</td>\n",
       "      <td>-0.024099</td>\n",
       "      <td>0.035229</td>\n",
       "      <td>0.012858</td>\n",
       "      <td>0.003652</td>\n",
       "      <td>0.067935</td>\n",
       "      <td>-0.021953</td>\n",
       "      <td>0.075092</td>\n",
       "      <td>0.057607</td>\n",
       "    </tr>\n",
       "    <tr>\n",
       "      <th>8</th>\n",
       "      <td>-0.039658</td>\n",
       "      <td>0.012982</td>\n",
       "      <td>-0.036808</td>\n",
       "      <td>0.096051</td>\n",
       "      <td>0.014149</td>\n",
       "      <td>0.020213</td>\n",
       "      <td>0.057682</td>\n",
       "      <td>-0.047410</td>\n",
       "      <td>-0.002474</td>\n",
       "      <td>0.185949</td>\n",
       "      <td>...</td>\n",
       "      <td>-0.066148</td>\n",
       "      <td>-0.124576</td>\n",
       "      <td>0.027114</td>\n",
       "      <td>-0.003479</td>\n",
       "      <td>0.104945</td>\n",
       "      <td>0.009855</td>\n",
       "      <td>0.087327</td>\n",
       "      <td>-0.065489</td>\n",
       "      <td>0.062407</td>\n",
       "      <td>0.053862</td>\n",
       "    </tr>\n",
       "    <tr>\n",
       "      <th>9</th>\n",
       "      <td>-0.000627</td>\n",
       "      <td>0.075138</td>\n",
       "      <td>0.003617</td>\n",
       "      <td>0.059989</td>\n",
       "      <td>-0.039812</td>\n",
       "      <td>0.030343</td>\n",
       "      <td>0.093473</td>\n",
       "      <td>-0.112724</td>\n",
       "      <td>-0.045164</td>\n",
       "      <td>0.166455</td>\n",
       "      <td>...</td>\n",
       "      <td>-0.072827</td>\n",
       "      <td>-0.084782</td>\n",
       "      <td>0.035722</td>\n",
       "      <td>-0.041455</td>\n",
       "      <td>0.015164</td>\n",
       "      <td>-0.019973</td>\n",
       "      <td>-0.006449</td>\n",
       "      <td>-0.042914</td>\n",
       "      <td>0.016949</td>\n",
       "      <td>-0.002238</td>\n",
       "    </tr>\n",
       "  </tbody>\n",
       "</table>\n",
       "<p>5 rows × 300 columns</p>\n",
       "</div>"
      ],
      "text/plain": [
       "        0         1         2         3         4         5         6    \\\n",
       "1 -0.009414  0.017585 -0.030814  0.042966 -0.034119 -0.014154  0.047176   \n",
       "3 -0.019996  0.053089 -0.006533  0.077504 -0.011608 -0.015919  0.074071   \n",
       "4  0.033173  0.042900 -0.023666  0.091482 -0.005512  0.044506  0.045542   \n",
       "8 -0.039658  0.012982 -0.036808  0.096051  0.014149  0.020213  0.057682   \n",
       "9 -0.000627  0.075138  0.003617  0.059989 -0.039812  0.030343  0.093473   \n",
       "\n",
       "        7         8         9      ...          290       291       292  \\\n",
       "1 -0.063593  0.027751  0.074998    ...    -0.024368 -0.046669  0.014262   \n",
       "3 -0.122085  0.006487  0.110128    ...    -0.061136 -0.036749 -0.041989   \n",
       "4 -0.081106  0.000179  0.109685    ...    -0.060822 -0.002810 -0.024099   \n",
       "8 -0.047410 -0.002474  0.185949    ...    -0.066148 -0.124576  0.027114   \n",
       "9 -0.112724 -0.045164  0.166455    ...    -0.072827 -0.084782  0.035722   \n",
       "\n",
       "        293       294       295       296       297       298       299  \n",
       "1 -0.034217  0.021626  0.006191  0.032924 -0.027418  0.014082  0.027547  \n",
       "3 -0.089181  0.047131  0.024642  0.002274  0.005979  0.033622  0.065197  \n",
       "4  0.035229  0.012858  0.003652  0.067935 -0.021953  0.075092  0.057607  \n",
       "8 -0.003479  0.104945  0.009855  0.087327 -0.065489  0.062407  0.053862  \n",
       "9 -0.041455  0.015164 -0.019973 -0.006449 -0.042914  0.016949 -0.002238  \n",
       "\n",
       "[5 rows x 300 columns]"
      ]
     },
     "execution_count": 64,
     "metadata": {},
     "output_type": "execute_result"
    }
   ],
   "source": [
    "df.head()"
   ]
  },
  {
   "cell_type": "code",
   "execution_count": 22,
   "metadata": {
    "collapsed": true
   },
   "outputs": [],
   "source": [
    "df2 = data.drop(['designation','country','title','price','winery','description'],axis=1)"
   ]
  },
  {
   "cell_type": "code",
   "execution_count": 23,
   "metadata": {
    "collapsed": true
   },
   "outputs": [],
   "source": [
    "df2 = pd.DataFrame(data['tfidf_wrd2vec'].values.tolist(), index= df2.index)"
   ]
  },
  {
   "cell_type": "code",
   "execution_count": 24,
   "metadata": {},
   "outputs": [
    {
     "data": {
      "text/html": [
       "<div>\n",
       "<style>\n",
       "    .dataframe thead tr:only-child th {\n",
       "        text-align: right;\n",
       "    }\n",
       "\n",
       "    .dataframe thead th {\n",
       "        text-align: left;\n",
       "    }\n",
       "\n",
       "    .dataframe tbody tr th {\n",
       "        vertical-align: top;\n",
       "    }\n",
       "</style>\n",
       "<table border=\"1\" class=\"dataframe\">\n",
       "  <thead>\n",
       "    <tr style=\"text-align: right;\">\n",
       "      <th></th>\n",
       "      <th>0</th>\n",
       "      <th>1</th>\n",
       "      <th>2</th>\n",
       "      <th>3</th>\n",
       "      <th>4</th>\n",
       "      <th>5</th>\n",
       "      <th>6</th>\n",
       "      <th>7</th>\n",
       "      <th>8</th>\n",
       "      <th>9</th>\n",
       "      <th>...</th>\n",
       "      <th>290</th>\n",
       "      <th>291</th>\n",
       "      <th>292</th>\n",
       "      <th>293</th>\n",
       "      <th>294</th>\n",
       "      <th>295</th>\n",
       "      <th>296</th>\n",
       "      <th>297</th>\n",
       "      <th>298</th>\n",
       "      <th>299</th>\n",
       "    </tr>\n",
       "  </thead>\n",
       "  <tbody>\n",
       "    <tr>\n",
       "      <th>1</th>\n",
       "      <td>-0.001341</td>\n",
       "      <td>0.002963</td>\n",
       "      <td>-0.004430</td>\n",
       "      <td>0.006254</td>\n",
       "      <td>-0.007441</td>\n",
       "      <td>-0.004121</td>\n",
       "      <td>0.005817</td>\n",
       "      <td>-0.009468</td>\n",
       "      <td>0.004501</td>\n",
       "      <td>0.013143</td>\n",
       "      <td>...</td>\n",
       "      <td>-0.006067</td>\n",
       "      <td>-0.007126</td>\n",
       "      <td>-0.000629</td>\n",
       "      <td>-0.006001</td>\n",
       "      <td>0.001649</td>\n",
       "      <td>0.003213</td>\n",
       "      <td>0.006112</td>\n",
       "      <td>-0.005280</td>\n",
       "      <td>-0.000955</td>\n",
       "      <td>0.001445</td>\n",
       "    </tr>\n",
       "    <tr>\n",
       "      <th>3</th>\n",
       "      <td>-0.004799</td>\n",
       "      <td>0.011565</td>\n",
       "      <td>-0.000315</td>\n",
       "      <td>0.016283</td>\n",
       "      <td>-0.001458</td>\n",
       "      <td>-0.000624</td>\n",
       "      <td>0.014385</td>\n",
       "      <td>-0.024511</td>\n",
       "      <td>-0.001369</td>\n",
       "      <td>0.021458</td>\n",
       "      <td>...</td>\n",
       "      <td>-0.014005</td>\n",
       "      <td>-0.007074</td>\n",
       "      <td>-0.007350</td>\n",
       "      <td>-0.019450</td>\n",
       "      <td>0.009283</td>\n",
       "      <td>0.005510</td>\n",
       "      <td>-0.002391</td>\n",
       "      <td>0.000613</td>\n",
       "      <td>0.007753</td>\n",
       "      <td>0.015970</td>\n",
       "    </tr>\n",
       "    <tr>\n",
       "      <th>4</th>\n",
       "      <td>0.005227</td>\n",
       "      <td>0.010146</td>\n",
       "      <td>-0.004827</td>\n",
       "      <td>0.016324</td>\n",
       "      <td>-0.002085</td>\n",
       "      <td>0.006962</td>\n",
       "      <td>0.006676</td>\n",
       "      <td>-0.014905</td>\n",
       "      <td>0.000162</td>\n",
       "      <td>0.018824</td>\n",
       "      <td>...</td>\n",
       "      <td>-0.011633</td>\n",
       "      <td>0.000839</td>\n",
       "      <td>-0.006316</td>\n",
       "      <td>0.005623</td>\n",
       "      <td>0.002504</td>\n",
       "      <td>-0.001024</td>\n",
       "      <td>0.008815</td>\n",
       "      <td>-0.003530</td>\n",
       "      <td>0.015238</td>\n",
       "      <td>0.010120</td>\n",
       "    </tr>\n",
       "    <tr>\n",
       "      <th>8</th>\n",
       "      <td>-0.007361</td>\n",
       "      <td>0.011621</td>\n",
       "      <td>-0.007160</td>\n",
       "      <td>0.017879</td>\n",
       "      <td>0.003230</td>\n",
       "      <td>0.003405</td>\n",
       "      <td>0.009326</td>\n",
       "      <td>-0.005410</td>\n",
       "      <td>0.003934</td>\n",
       "      <td>0.037519</td>\n",
       "      <td>...</td>\n",
       "      <td>-0.017755</td>\n",
       "      <td>-0.020070</td>\n",
       "      <td>0.003063</td>\n",
       "      <td>-0.001378</td>\n",
       "      <td>0.021721</td>\n",
       "      <td>0.001979</td>\n",
       "      <td>0.013683</td>\n",
       "      <td>-0.016910</td>\n",
       "      <td>0.008117</td>\n",
       "      <td>0.006520</td>\n",
       "    </tr>\n",
       "    <tr>\n",
       "      <th>9</th>\n",
       "      <td>-0.000223</td>\n",
       "      <td>0.022397</td>\n",
       "      <td>0.000233</td>\n",
       "      <td>0.014298</td>\n",
       "      <td>-0.008672</td>\n",
       "      <td>0.006308</td>\n",
       "      <td>0.025374</td>\n",
       "      <td>-0.030139</td>\n",
       "      <td>-0.010834</td>\n",
       "      <td>0.041768</td>\n",
       "      <td>...</td>\n",
       "      <td>-0.020869</td>\n",
       "      <td>-0.022500</td>\n",
       "      <td>0.008465</td>\n",
       "      <td>-0.012644</td>\n",
       "      <td>0.002234</td>\n",
       "      <td>-0.004817</td>\n",
       "      <td>-0.003038</td>\n",
       "      <td>-0.011486</td>\n",
       "      <td>0.002695</td>\n",
       "      <td>-0.002582</td>\n",
       "    </tr>\n",
       "  </tbody>\n",
       "</table>\n",
       "<p>5 rows × 300 columns</p>\n",
       "</div>"
      ],
      "text/plain": [
       "        0         1         2         3         4         5         6    \\\n",
       "1 -0.001341  0.002963 -0.004430  0.006254 -0.007441 -0.004121  0.005817   \n",
       "3 -0.004799  0.011565 -0.000315  0.016283 -0.001458 -0.000624  0.014385   \n",
       "4  0.005227  0.010146 -0.004827  0.016324 -0.002085  0.006962  0.006676   \n",
       "8 -0.007361  0.011621 -0.007160  0.017879  0.003230  0.003405  0.009326   \n",
       "9 -0.000223  0.022397  0.000233  0.014298 -0.008672  0.006308  0.025374   \n",
       "\n",
       "        7         8         9      ...          290       291       292  \\\n",
       "1 -0.009468  0.004501  0.013143    ...    -0.006067 -0.007126 -0.000629   \n",
       "3 -0.024511 -0.001369  0.021458    ...    -0.014005 -0.007074 -0.007350   \n",
       "4 -0.014905  0.000162  0.018824    ...    -0.011633  0.000839 -0.006316   \n",
       "8 -0.005410  0.003934  0.037519    ...    -0.017755 -0.020070  0.003063   \n",
       "9 -0.030139 -0.010834  0.041768    ...    -0.020869 -0.022500  0.008465   \n",
       "\n",
       "        293       294       295       296       297       298       299  \n",
       "1 -0.006001  0.001649  0.003213  0.006112 -0.005280 -0.000955  0.001445  \n",
       "3 -0.019450  0.009283  0.005510 -0.002391  0.000613  0.007753  0.015970  \n",
       "4  0.005623  0.002504 -0.001024  0.008815 -0.003530  0.015238  0.010120  \n",
       "8 -0.001378  0.021721  0.001979  0.013683 -0.016910  0.008117  0.006520  \n",
       "9 -0.012644  0.002234 -0.004817 -0.003038 -0.011486  0.002695 -0.002582  \n",
       "\n",
       "[5 rows x 300 columns]"
      ]
     },
     "execution_count": 24,
     "metadata": {},
     "output_type": "execute_result"
    }
   ],
   "source": [
    "df2.head()"
   ]
  },
  {
   "cell_type": "code",
   "execution_count": 19,
   "metadata": {},
   "outputs": [
    {
     "data": {
      "text/plain": [
       "(72276, 300)"
      ]
     },
     "execution_count": 19,
     "metadata": {},
     "output_type": "execute_result"
    }
   ],
   "source": [
    "df2.shape"
   ]
  },
  {
   "cell_type": "code",
   "execution_count": 65,
   "metadata": {},
   "outputs": [
    {
     "data": {
      "text/plain": [
       "(72276, 300)"
      ]
     },
     "execution_count": 65,
     "metadata": {},
     "output_type": "execute_result"
    }
   ],
   "source": [
    "df.shape"
   ]
  },
  {
   "cell_type": "code",
   "execution_count": 26,
   "metadata": {
    "collapsed": true
   },
   "outputs": [],
   "source": [
    "X_train, test_df, y_train, y_test = train_test_split(df2,target, stratify=target, test_size=0.2)\n",
    "# split the train data into train and cross validation by maintaining same distribution of output varaible 'y_train' [stratify=y_train]\n",
    "train_df, cv_df, y_train, y_cv = train_test_split(X_train, y_train, stratify=y_train, test_size=0.2)"
   ]
  },
  {
   "cell_type": "code",
   "execution_count": 27,
   "metadata": {},
   "outputs": [
    {
     "data": {
      "text/plain": [
       "(46256, 300)"
      ]
     },
     "execution_count": 27,
     "metadata": {},
     "output_type": "execute_result"
    }
   ],
   "source": [
    "train_df.shape"
   ]
  },
  {
   "cell_type": "code",
   "execution_count": 29,
   "metadata": {},
   "outputs": [
    {
     "name": "stdout",
     "output_type": "stream",
     "text": [
      "For values of alpha =  1e-10 The accuracy loss is: 0.077827741266\n",
      "For values of alpha =  1e-09 The accuracy loss is: 0.0741957800069\n",
      "For values of alpha =  1e-08 The accuracy loss is: 0.104808024905\n",
      "For values of alpha =  1e-07 The accuracy loss is: 0.116655136631\n",
      "For values of alpha =  1e-06 The accuracy loss is: 0.204427533725\n",
      "For values of alpha =  1e-05 The accuracy loss is: 0.267468004151\n",
      "For values of alpha =  0.0001 The accuracy loss is: 0.187391905915\n",
      "For values of alpha =  0.001 The accuracy loss is: 0.122794880664\n",
      "For values of alpha =  0.01 The accuracy loss is: 0.121497751643\n"
     ]
    },
    {
     "data": {
      "image/png": "[encoded data removed]",
      "text/plain": [
       "<matplotlib.figure.Figure at 0xc919817978>"
      ]
     },
     "metadata": {},
     "output_type": "display_data"
    },
    {
     "name": "stdout",
     "output_type": "stream",
     "text": [
      "For values of best alpha =  1e-05 The train accuracy is: 0.271964718091\n",
      "For values of best alpha =  1e-05 The cross validation accuracy is: 0.267468004151\n",
      "For values of best alpha =  1e-05 The test accuracy is: 0.259753735473\n"
     ]
    }
   ],
   "source": [
    "alpha = [10 ** x for x in range(-10, -1)]\n",
    "cv_accuracy_array=[]\n",
    "for i in alpha:\n",
    "    clf = SGDClassifier(alpha=i, penalty='l2', loss='log', random_state=42)\n",
    "    clf.fit(train_df, y_train)\n",
    "    \n",
    "    \n",
    "    predict_y = clf.predict(cv_df)\n",
    "    \n",
    "    cv_accuracy_array.append(accuracy_score(y_cv, predict_y))\n",
    "    print('For values of alpha = ', i, \"The accuracy loss is:\",accuracy_score(y_cv, predict_y))\n",
    "\n",
    "fig, ax = plt.subplots()\n",
    "ax.plot(alpha, cv_accuracy_array,c='g')\n",
    "for i, txt in enumerate(np.round(cv_accuracy_array,3)):\n",
    "    ax.annotate((alpha[i],np.round(txt,3)), (alpha[i],cv_accuracy_array[i]))\n",
    "plt.grid()\n",
    "plt.title(\"Cross Validation accuracy for each alpha\")\n",
    "plt.xlabel(\"Alpha i's\")\n",
    "plt.ylabel(\"accuracy measure\")\n",
    "plt.show()\n",
    "\n",
    "\n",
    "best_alpha = np.argmax(cv_accuracy_array)\n",
    "clf = SGDClassifier(alpha=alpha[best_alpha], penalty='l2', loss='log', random_state=42)\n",
    "clf.fit(train_df, y_train)\n",
    "\n",
    "\n",
    "predict_y = clf.predict(train_df)\n",
    "print('For values of best alpha = ', alpha[best_alpha], \"The train accuracy is:\",accuracy_score(y_train, predict_y))\n",
    "predict_y = clf.predict(cv_df)\n",
    "print('For values of best alpha = ', alpha[best_alpha], \"The cross validation accuracy is:\",accuracy_score(y_cv, predict_y))\n",
    "predict_y = clf.predict(test_df)\n",
    "print('For values of best alpha = ', alpha[best_alpha], \"The test accuracy is:\",accuracy_score(y_test, predict_y))\n",
    "#simple using wrd2vc\n",
    "# it is still increasing you can check for other values\n",
    "# change the label or error matric..ok...see code once again..i chnged little bit"
   ]
  },
  {
   "cell_type": "code",
   "execution_count": 71,
   "metadata": {},
   "outputs": [
    {
     "name": "stdout",
     "output_type": "stream",
     "text": [
      "For values of alpha =  1e-10 The accuracy loss is: 0.454427533725\n",
      "For values of alpha =  1e-09 The accuracy loss is: 0.454168107921\n",
      "For values of alpha =  1e-08 The accuracy loss is: 0.456502940159\n",
      "For values of alpha =  1e-07 The accuracy loss is: 0.455205811138\n",
      "For values of alpha =  1e-06 The accuracy loss is: 0.45511933587\n"
     ]
    },
    {
     "data": {
      "image/png": "[encoded data removed]",
      "text/plain": [
       "<matplotlib.figure.Figure at 0x1c8cb80080>"
      ]
     },
     "metadata": {},
     "output_type": "display_data"
    },
    {
     "name": "stdout",
     "output_type": "stream",
     "text": [
      "For values of best alpha =  1e-08 The train accuracy is: 0.490617433414\n",
      "For values of best alpha =  1e-08 The cross validation accuracy is: 0.456502940159\n",
      "For values of best alpha =  1e-08 The test accuracy is: 0.457042058661\n"
     ]
    }
   ],
   "source": [
    "alpha = [10 ** x for x in range(-10, -5)]\n",
    "cv_accuracy_array=[]\n",
    "for i in alpha:\n",
    "    clf = SGDClassifier(alpha=i, penalty='l2', loss='hinge', random_state=42)\n",
    "    clf.fit(train_df, y_train)\n",
    "    \n",
    "    sig_clf = CalibratedClassifierCV(clf, method=\"sigmoid\")\n",
    "    sig_clf.fit(train_df, y_train)\n",
    "    predict_y = sig_clf.predict(cv_df)\n",
    "    \n",
    "    cv_accuracy_array.append(accuracy_score(y_cv, predict_y))\n",
    "    print('For values of alpha = ', i, \"The accuracy loss is:\",accuracy_score(y_cv, predict_y))\n",
    "\n",
    "fig, ax = plt.subplots()\n",
    "ax.plot(alpha, cv_accuracy_array,c='g')\n",
    "for i, txt in enumerate(np.round(cv_accuracy_array,3)):\n",
    "    ax.annotate((alpha[i],np.round(txt,3)), (alpha[i],cv_accuracy_array[i]))\n",
    "plt.grid()\n",
    "plt.title(\"Cross Validation Accuracy for each alpha\")\n",
    "plt.xlabel(\"Alpha i's\")\n",
    "plt.ylabel(\"Accuracy measure\")\n",
    "plt.show()\n",
    "\n",
    "\n",
    "best_alpha = np.argmax(cv_accuracy_array)\n",
    "clf = SGDClassifier(alpha=alpha[best_alpha], penalty='l2', loss='hinge', random_state=42)\n",
    "clf.fit(train_df, y_train)\n",
    "sig_clf = CalibratedClassifierCV(clf, method=\"sigmoid\")\n",
    "sig_clf.fit(train_df, y_train)\n",
    "\n",
    "predict_y = sig_clf.predict(train_df)\n",
    "print('For values of best alpha = ', alpha[best_alpha], \"The train accuracy is:\",accuracy_score(y_train, predict_y))\n",
    "predict_y = sig_clf.predict(cv_df)\n",
    "print('For values of best alpha = ', alpha[best_alpha], \"The cross validation accuracy is:\",accuracy_score(y_cv, predict_y))\n",
    "predict_y = sig_clf.predict(test_df)\n",
    "print('For values of best alpha = ', alpha[best_alpha], \"The test accuracy is:\",accuracy_score(y_test, predict_y))"
   ]
  },
  {
   "cell_type": "code",
   "execution_count": 72,
   "metadata": {
    "scrolled": true
   },
   "outputs": [
    {
     "name": "stdout",
     "output_type": "stream",
     "text": [
      "for alpha = 1e-05\n"
     ]
    },
    {
     "ename": "ValueError",
     "evalue": "Input X must be non-negative",
     "output_type": "error",
     "traceback": [
      "\u001b[1;31m---------------------------------------------------------------------------\u001b[0m",
      "\u001b[1;31mValueError\u001b[0m                                Traceback (most recent call last)",
      "\u001b[1;32m<ipython-input-72-31a5533982b7>\u001b[0m in \u001b[0;36m<module>\u001b[1;34m()\u001b[0m\n\u001b[0;32m      5\u001b[0m     \u001b[0mprint\u001b[0m\u001b[1;33m(\u001b[0m\u001b[1;34m\"for alpha =\"\u001b[0m\u001b[1;33m,\u001b[0m \u001b[0mi\u001b[0m\u001b[1;33m)\u001b[0m\u001b[1;33m\u001b[0m\u001b[0m\n\u001b[0;32m      6\u001b[0m     \u001b[0mclf\u001b[0m \u001b[1;33m=\u001b[0m \u001b[0mMultinomialNB\u001b[0m\u001b[1;33m(\u001b[0m\u001b[0malpha\u001b[0m\u001b[1;33m=\u001b[0m\u001b[0mi\u001b[0m\u001b[1;33m)\u001b[0m\u001b[1;33m\u001b[0m\u001b[0m\n\u001b[1;32m----> 7\u001b[1;33m     \u001b[0mclf\u001b[0m\u001b[1;33m.\u001b[0m\u001b[0mfit\u001b[0m\u001b[1;33m(\u001b[0m\u001b[0mtrain_df\u001b[0m\u001b[1;33m,\u001b[0m\u001b[0my_train\u001b[0m\u001b[1;33m)\u001b[0m\u001b[1;33m\u001b[0m\u001b[0m\n\u001b[0m\u001b[0;32m      8\u001b[0m     \u001b[0msig_clf\u001b[0m \u001b[1;33m=\u001b[0m \u001b[0mCalibratedClassifierCV\u001b[0m\u001b[1;33m(\u001b[0m\u001b[0mclf\u001b[0m\u001b[1;33m,\u001b[0m \u001b[0mmethod\u001b[0m\u001b[1;33m=\u001b[0m\u001b[1;34m\"sigmoid\"\u001b[0m\u001b[1;33m)\u001b[0m\u001b[1;33m\u001b[0m\u001b[0m\n\u001b[0;32m      9\u001b[0m     \u001b[0msig_clf\u001b[0m\u001b[1;33m.\u001b[0m\u001b[0mfit\u001b[0m\u001b[1;33m(\u001b[0m\u001b[0mtrain_df\u001b[0m\u001b[1;33m,\u001b[0m\u001b[0my_train\u001b[0m\u001b[1;33m)\u001b[0m\u001b[1;33m\u001b[0m\u001b[0m\n",
      "\u001b[1;32m~\\Anaconda3\\lib\\site-packages\\sklearn\\naive_bayes.py\u001b[0m in \u001b[0;36mfit\u001b[1;34m(self, X, y, sample_weight)\u001b[0m\n\u001b[0;32m    602\u001b[0m         self.feature_count_ = np.zeros((n_effective_classes, n_features),\n\u001b[0;32m    603\u001b[0m                                        dtype=np.float64)\n\u001b[1;32m--> 604\u001b[1;33m         \u001b[0mself\u001b[0m\u001b[1;33m.\u001b[0m\u001b[0m_count\u001b[0m\u001b[1;33m(\u001b[0m\u001b[0mX\u001b[0m\u001b[1;33m,\u001b[0m \u001b[0mY\u001b[0m\u001b[1;33m)\u001b[0m\u001b[1;33m\u001b[0m\u001b[0m\n\u001b[0m\u001b[0;32m    605\u001b[0m         \u001b[0malpha\u001b[0m \u001b[1;33m=\u001b[0m \u001b[0mself\u001b[0m\u001b[1;33m.\u001b[0m\u001b[0m_check_alpha\u001b[0m\u001b[1;33m(\u001b[0m\u001b[1;33m)\u001b[0m\u001b[1;33m\u001b[0m\u001b[0m\n\u001b[0;32m    606\u001b[0m         \u001b[0mself\u001b[0m\u001b[1;33m.\u001b[0m\u001b[0m_update_feature_log_prob\u001b[0m\u001b[1;33m(\u001b[0m\u001b[0malpha\u001b[0m\u001b[1;33m)\u001b[0m\u001b[1;33m\u001b[0m\u001b[0m\n",
      "\u001b[1;32m~\\Anaconda3\\lib\\site-packages\\sklearn\\naive_bayes.py\u001b[0m in \u001b[0;36m_count\u001b[1;34m(self, X, Y)\u001b[0m\n\u001b[0;32m    706\u001b[0m         \u001b[1;34m\"\"\"Count and smooth feature occurrences.\"\"\"\u001b[0m\u001b[1;33m\u001b[0m\u001b[0m\n\u001b[0;32m    707\u001b[0m         \u001b[1;32mif\u001b[0m \u001b[0mnp\u001b[0m\u001b[1;33m.\u001b[0m\u001b[0many\u001b[0m\u001b[1;33m(\u001b[0m\u001b[1;33m(\u001b[0m\u001b[0mX\u001b[0m\u001b[1;33m.\u001b[0m\u001b[0mdata\u001b[0m \u001b[1;32mif\u001b[0m \u001b[0missparse\u001b[0m\u001b[1;33m(\u001b[0m\u001b[0mX\u001b[0m\u001b[1;33m)\u001b[0m \u001b[1;32melse\u001b[0m \u001b[0mX\u001b[0m\u001b[1;33m)\u001b[0m \u001b[1;33m<\u001b[0m \u001b[1;36m0\u001b[0m\u001b[1;33m)\u001b[0m\u001b[1;33m:\u001b[0m\u001b[1;33m\u001b[0m\u001b[0m\n\u001b[1;32m--> 708\u001b[1;33m             \u001b[1;32mraise\u001b[0m \u001b[0mValueError\u001b[0m\u001b[1;33m(\u001b[0m\u001b[1;34m\"Input X must be non-negative\"\u001b[0m\u001b[1;33m)\u001b[0m\u001b[1;33m\u001b[0m\u001b[0m\n\u001b[0m\u001b[0;32m    709\u001b[0m         \u001b[0mself\u001b[0m\u001b[1;33m.\u001b[0m\u001b[0mfeature_count_\u001b[0m \u001b[1;33m+=\u001b[0m \u001b[0msafe_sparse_dot\u001b[0m\u001b[1;33m(\u001b[0m\u001b[0mY\u001b[0m\u001b[1;33m.\u001b[0m\u001b[0mT\u001b[0m\u001b[1;33m,\u001b[0m \u001b[0mX\u001b[0m\u001b[1;33m)\u001b[0m\u001b[1;33m\u001b[0m\u001b[0m\n\u001b[0;32m    710\u001b[0m         \u001b[0mself\u001b[0m\u001b[1;33m.\u001b[0m\u001b[0mclass_count_\u001b[0m \u001b[1;33m+=\u001b[0m \u001b[0mY\u001b[0m\u001b[1;33m.\u001b[0m\u001b[0msum\u001b[0m\u001b[1;33m(\u001b[0m\u001b[0maxis\u001b[0m\u001b[1;33m=\u001b[0m\u001b[1;36m0\u001b[0m\u001b[1;33m)\u001b[0m\u001b[1;33m\u001b[0m\u001b[0m\n",
      "\u001b[1;31mValueError\u001b[0m: Input X must be non-negative"
     ]
    }
   ],
   "source": [
    "from sklearn.naive_bayes import MultinomialNB\n",
    "alpha = [0.00001, 0.0001, 0.001, 0.1, 1, 10, 100,1000]\n",
    "cv_accuracy_array = []\n",
    "for i in alpha:\n",
    "    print(\"for alpha =\", i)\n",
    "    clf = MultinomialNB(alpha=i)\n",
    "    clf.fit(train_df,y_train)\n",
    "    sig_clf = CalibratedClassifierCV(clf, method=\"sigmoid\")\n",
    "    sig_clf.fit(train_df,y_train)\n",
    "    sig_clf_probs = sig_clf.predict(cv_df)\n",
    "    cv_accuracy_array.append(accuracy_score(y_cv, sig_clf_probs))\n",
    "    # to avoid rounding error while multiplying probabilites we use log-probability estimates\n",
    "    print(\"accuracy :\",accuracy_score(y_cv, sig_clf_probs)) \n",
    "\n",
    "fig, ax = plt.subplots()\n",
    "ax.plot(np.log10(alpha), cv_accuracy_array,c='g')\n",
    "for i, txt in enumerate(np.round(cv_accuracy_array,3)):\n",
    "    ax.annotate((alpha[i],str(txt)), (np.log10(alpha[i]),cv_accuracy_array[i]))\n",
    "plt.grid()\n",
    "plt.xticks(np.log10(alpha))\n",
    "plt.title(\"Cross Validation Accuracy for each alpha\")\n",
    "plt.xlabel(\"Alpha i's\")\n",
    "plt.ylabel(\"Accuracy measure\")\n",
    "plt.show()\n",
    "\n",
    "\n",
    "best_alpha = np.argmax(cv_accuracy_array)\n",
    "clf = MultinomialNB(alpha=alpha[best_alpha])\n",
    "clf.fit(train_df, y_train)\n",
    "sig_clf = CalibratedClassifierCV(clf, method=\"sigmoid\")\n",
    "sig_clf.fit(train_df, y_train)\n",
    "\n",
    "\n",
    "predict_y = sig_clf.predict(train_df)\n",
    "print('For values of best alpha = ', alpha[best_alpha], \"The train accuracy is:\",accuracy_score(y_train, predict_y))\n",
    "predict_y = sig_clf.predict(cv_df)\n",
    "print('For values of best alpha = ', alpha[best_alpha], \"The cross validation accuracy is:\",accuracy_score(y_cv, predict_y))\n",
    "predict_y = sig_clf.predict(test_df)\n",
    "print('For values of best alpha = ', alpha[best_alpha], \"The test accuracy is:\",accuracy_score(y_test, predict_y))\n",
    "# what is this....naive bayes naaa..cant run neg valuess.."
   ]
  },
  {
   "cell_type": "code",
   "execution_count": 21,
   "metadata": {},
   "outputs": [
    {
     "name": "stdout",
     "output_type": "stream",
     "text": [
      "For values of alpha =  1e-10 The accuracy loss is: 0.380058803182\n",
      "For values of alpha =  1e-09 The accuracy loss is: 0.380404704255\n",
      "For values of alpha =  1e-08 The accuracy loss is: 0.380058803182\n",
      "For values of alpha =  1e-07 The accuracy loss is: 0.382307160152\n",
      "For values of alpha =  1e-06 The accuracy loss is: 0.380664130059\n"
     ]
    },
    {
     "data": {
      "image/png": "[encoded data removed]",
      "text/plain": [
       "<matplotlib.figure.Figure at 0xf133c65eb8>"
      ]
     },
     "metadata": {},
     "output_type": "display_data"
    },
    {
     "name": "stdout",
     "output_type": "stream",
     "text": [
      "For values of best alpha =  1e-07 The train accuracy is: 0.395019024559\n",
      "For values of best alpha =  1e-07 The cross validation accuracy is: 0.382307160152\n",
      "For values of best alpha =  1e-07 The test accuracy is: 0.382125069175\n"
     ]
    }
   ],
   "source": [
    "#using tfidf wrd2vec\n",
    "alpha = [10 ** x for x in range(-10, -5)]\n",
    "cv_accuracy_array=[]\n",
    "for i in alpha:\n",
    "    clf = SGDClassifier(alpha=i, penalty='l2', loss='log', random_state=42)\n",
    "    clf.fit(train_df, y_train)\n",
    "    \n",
    "    sig_clf = CalibratedClassifierCV(clf, method=\"sigmoid\")\n",
    "    sig_clf.fit(train_df, y_train)\n",
    "    predict_y = sig_clf.predict(cv_df)\n",
    "    \n",
    "    cv_accuracy_array.append(accuracy_score(y_cv, predict_y))\n",
    "    print('For values of alpha = ', i, \"The accuracy loss is:\",accuracy_score(y_cv, predict_y))\n",
    "\n",
    "fig, ax = plt.subplots()\n",
    "ax.plot(alpha, cv_accuracy_array,c='g')\n",
    "for i, txt in enumerate(np.round(cv_accuracy_array,3)):\n",
    "    ax.annotate((alpha[i],np.round(txt,3)), (alpha[i],cv_accuracy_array[i]))\n",
    "plt.grid()\n",
    "plt.title(\"Cross Validation accuracy for each alpha\")\n",
    "plt.xlabel(\"Alpha i's\")\n",
    "plt.ylabel(\"accuracy measure\")\n",
    "plt.show()\n",
    "\n",
    "\n",
    "best_alpha = np.argmax(cv_accuracy_array)\n",
    "clf = SGDClassifier(alpha=alpha[best_alpha], penalty='l2', loss='log', random_state=42)\n",
    "clf.fit(train_df, y_train)\n",
    "sig_clf = CalibratedClassifierCV(clf, method=\"sigmoid\")\n",
    "sig_clf.fit(train_df, y_train)\n",
    "\n",
    "predict_y = sig_clf.predict(train_df)\n",
    "print('For values of best alpha = ', alpha[best_alpha], \"The train accuracy is:\",accuracy_score(y_train, predict_y))\n",
    "predict_y = sig_clf.predict(cv_df)\n",
    "print('For values of best alpha = ', alpha[best_alpha], \"The cross validation accuracy is:\",accuracy_score(y_cv, predict_y))\n",
    "predict_y = sig_clf.predict(test_df)\n",
    "print('For values of best alpha = ', alpha[best_alpha], \"The test accuracy is:\",accuracy_score(y_test, predict_y))"
   ]
  },
  {
   "cell_type": "code",
   "execution_count": 22,
   "metadata": {},
   "outputs": [
    {
     "name": "stdout",
     "output_type": "stream",
     "text": [
      "For values of alpha =  1e-10 The accuracy loss is: 0.375994465583\n",
      "For values of alpha =  1e-09 The accuracy loss is: 0.374092009685\n",
      "For values of alpha =  1e-08 The accuracy loss is: 0.375735039779\n",
      "For values of alpha =  1e-07 The accuracy loss is: 0.376253891387\n",
      "For values of alpha =  1e-06 The accuracy loss is: 0.3729678312\n",
      "For values of alpha =  1e-05 The accuracy loss is: 0.370460048426\n",
      "For values of alpha =  0.0001 The accuracy loss is: 0.37253545486\n",
      "For values of alpha =  0.001 The accuracy loss is: 0.370892424767\n",
      "For values of alpha =  0.01 The accuracy loss is: 0.367087512971\n"
     ]
    },
    {
     "data": {
      "image/png": "[encoded data removed]",
      "text/plain": [
       "<matplotlib.figure.Figure at 0xf133ca0208>"
      ]
     },
     "metadata": {},
     "output_type": "display_data"
    },
    {
     "name": "stdout",
     "output_type": "stream",
     "text": [
      "For values of best alpha =  1e-07 The train accuracy is: 0.390976305777\n",
      "For values of best alpha =  1e-07 The cross validation accuracy is: 0.376253891387\n",
      "For values of best alpha =  1e-07 The test accuracy is: 0.379911455451\n"
     ]
    }
   ],
   "source": [
    "alpha = [10 ** x for x in range(-10, -1)]\n",
    "cv_accuracy_array=[]\n",
    "for i in alpha:\n",
    "    clf = SGDClassifier(alpha=i, penalty='l2', loss='hinge', random_state=42)\n",
    "    clf.fit(train_df, y_train)\n",
    "    \n",
    "    sig_clf = CalibratedClassifierCV(clf, method=\"sigmoid\")\n",
    "    sig_clf.fit(train_df, y_train)\n",
    "    predict_y = sig_clf.predict(cv_df)\n",
    "    \n",
    "    cv_accuracy_array.append(accuracy_score(y_cv, predict_y))\n",
    "    print('For values of alpha = ', i, \"The accuracy loss is:\",accuracy_score(y_cv, predict_y))\n",
    "\n",
    "fig, ax = plt.subplots()\n",
    "ax.plot(alpha, cv_accuracy_array,c='g')\n",
    "for i, txt in enumerate(np.round(cv_accuracy_array,3)):\n",
    "    ax.annotate((alpha[i],np.round(txt,3)), (alpha[i],cv_accuracy_array[i]))\n",
    "plt.grid()\n",
    "plt.title(\"Cross Validation Accuracy for each alpha\")\n",
    "plt.xlabel(\"Alpha i's\")\n",
    "plt.ylabel(\"Accuracy measure\")\n",
    "plt.show()\n",
    "\n",
    "\n",
    "best_alpha = np.argmax(cv_accuracy_array)\n",
    "clf = SGDClassifier(alpha=alpha[best_alpha], penalty='l2', loss='hinge', random_state=42)\n",
    "clf.fit(train_df, y_train)\n",
    "sig_clf = CalibratedClassifierCV(clf, method=\"sigmoid\")\n",
    "sig_clf.fit(train_df, y_train)\n",
    "\n",
    "predict_y = sig_clf.predict(train_df)\n",
    "print('For values of best alpha = ', alpha[best_alpha], \"The train accuracy is:\",accuracy_score(y_train, predict_y))\n",
    "predict_y = sig_clf.predict(cv_df)\n",
    "print('For values of best alpha = ', alpha[best_alpha], \"The cross validation accuracy is:\",accuracy_score(y_cv, predict_y))\n",
    "predict_y = sig_clf.predict(test_df)\n",
    "print('For values of best alpha = ', alpha[best_alpha], \"The test accuracy is:\",accuracy_score(y_test, predict_y))"
   ]
  },
  {
   "cell_type": "code",
   "execution_count": 89,
   "metadata": {},
   "outputs": [
    {
     "name": "stdout",
     "output_type": "stream",
     "text": [
      "The wine corpus contains 5,223,820,176 tokens\n"
     ]
    }
   ],
   "source": [
    "token_count = sum([len(list_of_sent) for sentence in list_of_sent])\n",
    "print('The wine corpus contains {0:,} tokens'.format(token_count))"
   ]
  },
  {
   "cell_type": "code",
   "execution_count": null,
   "metadata": {
    "collapsed": true
   },
   "outputs": [],
   "source": []
  },
  {
   "cell_type": "code",
   "execution_count": null,
   "metadata": {
    "collapsed": true
   },
   "outputs": [],
   "source": [
    "import gensim\n",
    "i=0\n",
    "list_of_sent=[]\n",
    "for sent in data['description'].values:\n",
    "    filtered_sentence=[]\n",
    "    sent=cleanhtml(sent)\n",
    "    for w in sent.split():\n",
    "        for cleaned_words in cleanpunc(w).split():\n",
    "            if(cleaned_words.isalpha()):    \n",
    "                filtered_sentence.append(cleaned_words.lower())\n",
    "            else:\n",
    "                continue \n",
    "    list_of_sent.append(filtered_sentence)"
   ]
  },
  {
   "cell_type": "code",
   "execution_count": 90,
   "metadata": {
    "collapsed": true
   },
   "outputs": [],
   "source": [
    "import multiprocessing\n",
    "num_features = 300\n",
    "min_word_count = 10\n",
    "num_workers = multiprocessing.cpu_count()\n",
    "context_size = 10\n",
    "downsampling = 1e-3\n",
    "seed=1993"
   ]
  },
  {
   "cell_type": "code",
   "execution_count": 91,
   "metadata": {
    "collapsed": true
   },
   "outputs": [],
   "source": [
    "import gensim.models.word2vec as w2v\n",
    "wine2vec = w2v.Word2Vec(\n",
    "    sg=1,\n",
    "    seed=seed,\n",
    "    workers=num_workers,\n",
    "    size=num_features,\n",
    "    min_count=min_word_count,\n",
    "    window=context_size,\n",
    "    sample=downsampling\n",
    ")"
   ]
  },
  {
   "cell_type": "code",
   "execution_count": 92,
   "metadata": {},
   "outputs": [
    {
     "name": "stdout",
     "output_type": "stream",
     "text": [
      "Word2Vec vocabulary length: 7176\n",
      "72276\n"
     ]
    }
   ],
   "source": [
    "wine2vec.build_vocab(list_of_sent)\n",
    "print('Word2Vec vocabulary length:', len(wine2vec.wv.vocab))\n",
    "print(wine2vec.corpus_count)\n",
    "wine2vec_model=wine2vec.train(list_of_sent, total_examples=wine2vec.corpus_count, epochs=wine2vec.iter)"
   ]
  },
  {
   "cell_type": "code",
   "execution_count": 81,
   "metadata": {},
   "outputs": [
    {
     "name": "stdout",
     "output_type": "stream",
     "text": [
      "7176\n"
     ]
    }
   ],
   "source": [
    "words = list(wine2vec.wv.vocab)\n",
    "print(len(words))"
   ]
  },
  {
   "cell_type": "code",
   "execution_count": 66,
   "metadata": {},
   "outputs": [
    {
     "data": {
      "text/plain": [
       "[('darkberry', 0.702000617980957),\n",
       " ('carmenèreled', 0.6222140192985535),\n",
       " ('berryfruit', 0.6157255172729492),\n",
       " ('clacky', 0.5929379463195801),\n",
       " ('herballeaning', 0.5886809229850769),\n",
       " ('transitioning', 0.5870229005813599),\n",
       " ('stocky', 0.5867764949798584),\n",
       " ('scratchiness', 0.5854229927062988),\n",
       " ('wildberry', 0.5840750932693481),\n",
       " ('carob', 0.5798763036727905)]"
      ]
     },
     "execution_count": 66,
     "metadata": {},
     "output_type": "execute_result"
    }
   ],
   "source": [
    "wine2vec.most_similar('berry')"
   ]
  },
  {
   "cell_type": "code",
   "execution_count": 202,
   "metadata": {},
   "outputs": [
    {
     "data": {
      "text/plain": [
       "[('papaya', 0.7389829158782959),\n",
       " ('cantaloupe', 0.7276902794837952),\n",
       " ('honeydew', 0.6906118392944336),\n",
       " ('melony', 0.6819292306900024),\n",
       " ('mango', 0.6786099672317505),\n",
       " ('nectarine', 0.6725907325744629),\n",
       " ('buttercup', 0.6706711053848267),\n",
       " ('tropicalleaning', 0.6666294932365417),\n",
       " ('banana', 0.6614856719970703),\n",
       " ('guava', 0.6490943431854248)]"
      ]
     },
     "execution_count": 202,
     "metadata": {},
     "output_type": "execute_result"
    }
   ],
   "source": [
    "wine2vec.most_similar('melon')"
   ]
  },
  {
   "cell_type": "code",
   "execution_count": null,
   "metadata": {
    "collapsed": true
   },
   "outputs": [],
   "source": []
  }
 ],
 "metadata": {
  "kernelspec": {
   "display_name": "Python 3",
   "language": "python",
   "name": "python3"
  },
  "language_info": {
   "codemirror_mode": {
    "name": "ipython",
    "version": 3
   },
   "file_extension": ".py",
   "mimetype": "text/x-python",
   "name": "python",
   "nbconvert_exporter": "python",
   "pygments_lexer": "ipython3",
   "version": "3.6.3"
  }
 },
 "nbformat": 4,
 "nbformat_minor": 2
}
